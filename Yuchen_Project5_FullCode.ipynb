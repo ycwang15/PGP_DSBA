{
 "cells": [
  {
   "cell_type": "markdown",
   "id": "AT5OogJVFbwu",
   "metadata": {
    "id": "AT5OogJVFbwu"
   },
   "source": [
    "# EasyVisa Project\n",
    "\n",
    "## Context:\n",
    "\n",
    "Business communities in the United States are facing high demand for human resources, but one of the constant challenges is identifying and attracting the right talent, which is perhaps the most important element in remaining competitive. Companies in the United States look for hard-working, talented, and qualified individuals both locally as well as abroad.\n",
    "\n",
    "The Immigration and Nationality Act (INA) of the US permits foreign workers to come to the United States to work on either a temporary or permanent basis. The act also protects US workers against adverse impacts on their wages or working conditions by ensuring US employers' compliance with statutory requirements when they hire foreign workers to fill workforce shortages. The immigration programs are administered by the Office of Foreign Labor Certification (OFLC).\n",
    "\n",
    "OFLC processes job certification applications for employers seeking to bring foreign workers into the United States and grants certifications in those cases where employers can demonstrate that there are not sufficient US workers available to perform the work at wages that meet or exceed the wage paid for the occupation in the area of intended employment.\n",
    "\n",
    "## Objective:\n",
    "\n",
    "In FY 2016, the OFLC processed 775,979 employer applications for 1,699,957 positions for temporary and permanent labor certifications. This was a nine percent increase in the overall number of processed applications from the previous year. The process of reviewing every case is becoming a tedious task as the number of applicants is increasing every year.\n",
    "\n",
    "The increasing number of applicants every year calls for a Machine Learning based solution that can help in shortlisting the candidates having higher chances of VISA approval. OFLC has hired your firm EasyVisa for data-driven solutions. You as a data scientist have to analyze the data provided and, with the help of a classification model:\n",
    "\n",
    "* Facilitate the process of visa approvals.\n",
    "* Recommend a suitable profile for the applicants for whom the visa should be certified or denied based on the drivers that significantly influence the case status. \n",
    "\n",
    "\n",
    "## Data Description\n",
    "\n",
    "The data contains the different attributes of the employee and the employer. The detailed data dictionary is given below.\n",
    "\n",
    "* case_id: ID of each visa application\n",
    "* continent: Information of continent the employee\n",
    "* education_of_employee: Information of education of the employee\n",
    "* has_job_experience: Does the employee has any job experience? Y= Yes; N = No\n",
    "* requires_job_training: Does the employee require any job training? Y = Yes; N = No \n",
    "* no_of_employees: Number of employees in the employer's company\n",
    "* yr_of_estab: Year in which the employer's company was established\n",
    "* region_of_employment: Information of foreign worker's intended region of employment in the US.\n",
    "* prevailing_wage:  Average wage paid to similarly employed workers in a specific occupation in the area of intended employment. The purpose of the prevailing wage is to ensure that the foreign worker is not underpaid compared to other workers offering the same or similar service in the same area of employment. \n",
    "* unit_of_wage: Unit of prevailing wage. Values include Hourly, Weekly, Monthly, and Yearly.\n",
    "* full_time_position: Is the position of work full-time? Y = Full Time Position; N = Part Time Position\n",
    "* case_status:  Flag indicating if the Visa was certified or denied"
   ]
  },
  {
   "cell_type": "markdown",
   "id": "dirty-island",
   "metadata": {
    "id": "dirty-island"
   },
   "source": [
    "## Importing necessary libraries and data"
   ]
  },
  {
   "cell_type": "code",
   "execution_count": 1,
   "id": "a477e7f2",
   "metadata": {},
   "outputs": [
    {
     "name": "stdout",
     "output_type": "stream",
     "text": [
      "Requirement already satisfied: xgboost in /Users/yuchenwang/opt/anaconda3/lib/python3.9/site-packages (1.6.1)\r\n",
      "Requirement already satisfied: numpy in /Users/yuchenwang/opt/anaconda3/lib/python3.9/site-packages (from xgboost) (1.20.3)\r\n",
      "Requirement already satisfied: scipy in /Users/yuchenwang/opt/anaconda3/lib/python3.9/site-packages (from xgboost) (1.7.1)\r\n"
     ]
    }
   ],
   "source": [
    "!pip install xgboost"
   ]
  },
  {
   "cell_type": "code",
   "execution_count": 2,
   "id": "statewide-still",
   "metadata": {
    "id": "statewide-still"
   },
   "outputs": [],
   "source": [
    "import pandas as pd\n",
    "import numpy as np\n",
    "from sklearn import metrics\n",
    "import matplotlib.pyplot as plt\n",
    "%matplotlib inline\n",
    "import warnings\n",
    "warnings.filterwarnings('ignore')\n",
    "import seaborn as sns\n",
    "from sklearn.model_selection import train_test_split\n",
    "from sklearn.model_selection import GridSearchCV\n",
    "from sklearn import metrics\n",
    "from sklearn.ensemble import BaggingClassifier, RandomForestClassifier\n",
    "from sklearn.linear_model import LogisticRegression\n",
    "from sklearn.tree import DecisionTreeRegressor\n",
    "from sklearn.ensemble import BaggingRegressor,RandomForestRegressor, GradientBoostingRegressor, AdaBoostRegressor, StackingRegressor\n",
    "from xgboost import XGBRegressor\n",
    "from sklearn import metrics\n",
    "from sklearn.model_selection import GridSearchCV, train_test_split\n",
    "from sklearn import tree\n",
    "from sklearn.tree import DecisionTreeClassifier\n",
    "from sklearn.ensemble import BaggingClassifier\n",
    "from sklearn.ensemble import RandomForestClassifier\n",
    "from sklearn.metrics import confusion_matrix, classification_report\n",
    "from sklearn.metrics import accuracy_score,precision_score,recall_score,f1_score, roc_auc_score\n",
    "import scipy.stats as stats\n",
    "from sklearn.ensemble import AdaBoostClassifier, GradientBoostingClassifier, StackingClassifier\n",
    "from xgboost import XGBClassifier\n"
   ]
  },
  {
   "cell_type": "code",
   "execution_count": 3,
   "id": "959dc7dc",
   "metadata": {},
   "outputs": [],
   "source": [
    "df=pd.read_csv(\"https://raw.githubusercontent.com/ycwang15/PGP_DSBA/Data/EasyVisa.csv\")"
   ]
  },
  {
   "cell_type": "code",
   "execution_count": 4,
   "id": "1a739362",
   "metadata": {},
   "outputs": [],
   "source": [
    "df_copy=df.copy()"
   ]
  },
  {
   "cell_type": "markdown",
   "id": "desperate-infection",
   "metadata": {
    "id": "desperate-infection"
   },
   "source": [
    "## Data Overview\n",
    "\n",
    "- Observations\n",
    "- Sanity checks"
   ]
  },
  {
   "cell_type": "markdown",
   "id": "42647dc4",
   "metadata": {},
   "source": [
    "### The first and the last 5 rows of the data"
   ]
  },
  {
   "cell_type": "code",
   "execution_count": 5,
   "id": "persistent-juice",
   "metadata": {
    "id": "persistent-juice"
   },
   "outputs": [
    {
     "data": {
      "text/html": [
       "<div>\n",
       "<style scoped>\n",
       "    .dataframe tbody tr th:only-of-type {\n",
       "        vertical-align: middle;\n",
       "    }\n",
       "\n",
       "    .dataframe tbody tr th {\n",
       "        vertical-align: top;\n",
       "    }\n",
       "\n",
       "    .dataframe thead th {\n",
       "        text-align: right;\n",
       "    }\n",
       "</style>\n",
       "<table border=\"1\" class=\"dataframe\">\n",
       "  <thead>\n",
       "    <tr style=\"text-align: right;\">\n",
       "      <th></th>\n",
       "      <th>case_id</th>\n",
       "      <th>continent</th>\n",
       "      <th>education_of_employee</th>\n",
       "      <th>has_job_experience</th>\n",
       "      <th>requires_job_training</th>\n",
       "      <th>no_of_employees</th>\n",
       "      <th>yr_of_estab</th>\n",
       "      <th>region_of_employment</th>\n",
       "      <th>prevailing_wage</th>\n",
       "      <th>unit_of_wage</th>\n",
       "      <th>full_time_position</th>\n",
       "      <th>case_status</th>\n",
       "    </tr>\n",
       "  </thead>\n",
       "  <tbody>\n",
       "    <tr>\n",
       "      <th>0</th>\n",
       "      <td>EZYV01</td>\n",
       "      <td>Asia</td>\n",
       "      <td>High School</td>\n",
       "      <td>N</td>\n",
       "      <td>N</td>\n",
       "      <td>14513</td>\n",
       "      <td>2007</td>\n",
       "      <td>West</td>\n",
       "      <td>592.2029</td>\n",
       "      <td>Hour</td>\n",
       "      <td>Y</td>\n",
       "      <td>Denied</td>\n",
       "    </tr>\n",
       "    <tr>\n",
       "      <th>1</th>\n",
       "      <td>EZYV02</td>\n",
       "      <td>Asia</td>\n",
       "      <td>Master's</td>\n",
       "      <td>Y</td>\n",
       "      <td>N</td>\n",
       "      <td>2412</td>\n",
       "      <td>2002</td>\n",
       "      <td>Northeast</td>\n",
       "      <td>83425.6500</td>\n",
       "      <td>Year</td>\n",
       "      <td>Y</td>\n",
       "      <td>Certified</td>\n",
       "    </tr>\n",
       "    <tr>\n",
       "      <th>2</th>\n",
       "      <td>EZYV03</td>\n",
       "      <td>Asia</td>\n",
       "      <td>Bachelor's</td>\n",
       "      <td>N</td>\n",
       "      <td>Y</td>\n",
       "      <td>44444</td>\n",
       "      <td>2008</td>\n",
       "      <td>West</td>\n",
       "      <td>122996.8600</td>\n",
       "      <td>Year</td>\n",
       "      <td>Y</td>\n",
       "      <td>Denied</td>\n",
       "    </tr>\n",
       "    <tr>\n",
       "      <th>3</th>\n",
       "      <td>EZYV04</td>\n",
       "      <td>Asia</td>\n",
       "      <td>Bachelor's</td>\n",
       "      <td>N</td>\n",
       "      <td>N</td>\n",
       "      <td>98</td>\n",
       "      <td>1897</td>\n",
       "      <td>West</td>\n",
       "      <td>83434.0300</td>\n",
       "      <td>Year</td>\n",
       "      <td>Y</td>\n",
       "      <td>Denied</td>\n",
       "    </tr>\n",
       "    <tr>\n",
       "      <th>4</th>\n",
       "      <td>EZYV05</td>\n",
       "      <td>Africa</td>\n",
       "      <td>Master's</td>\n",
       "      <td>Y</td>\n",
       "      <td>N</td>\n",
       "      <td>1082</td>\n",
       "      <td>2005</td>\n",
       "      <td>South</td>\n",
       "      <td>149907.3900</td>\n",
       "      <td>Year</td>\n",
       "      <td>Y</td>\n",
       "      <td>Certified</td>\n",
       "    </tr>\n",
       "  </tbody>\n",
       "</table>\n",
       "</div>"
      ],
      "text/plain": [
       "  case_id continent education_of_employee has_job_experience  \\\n",
       "0  EZYV01      Asia           High School                  N   \n",
       "1  EZYV02      Asia              Master's                  Y   \n",
       "2  EZYV03      Asia            Bachelor's                  N   \n",
       "3  EZYV04      Asia            Bachelor's                  N   \n",
       "4  EZYV05    Africa              Master's                  Y   \n",
       "\n",
       "  requires_job_training  no_of_employees  yr_of_estab region_of_employment  \\\n",
       "0                     N            14513         2007                 West   \n",
       "1                     N             2412         2002            Northeast   \n",
       "2                     Y            44444         2008                 West   \n",
       "3                     N               98         1897                 West   \n",
       "4                     N             1082         2005                South   \n",
       "\n",
       "   prevailing_wage unit_of_wage full_time_position case_status  \n",
       "0         592.2029         Hour                  Y      Denied  \n",
       "1       83425.6500         Year                  Y   Certified  \n",
       "2      122996.8600         Year                  Y      Denied  \n",
       "3       83434.0300         Year                  Y      Denied  \n",
       "4      149907.3900         Year                  Y   Certified  "
      ]
     },
     "execution_count": 5,
     "metadata": {},
     "output_type": "execute_result"
    }
   ],
   "source": [
    "df.head()"
   ]
  },
  {
   "cell_type": "code",
   "execution_count": 6,
   "id": "d61bd387",
   "metadata": {},
   "outputs": [
    {
     "data": {
      "text/html": [
       "<div>\n",
       "<style scoped>\n",
       "    .dataframe tbody tr th:only-of-type {\n",
       "        vertical-align: middle;\n",
       "    }\n",
       "\n",
       "    .dataframe tbody tr th {\n",
       "        vertical-align: top;\n",
       "    }\n",
       "\n",
       "    .dataframe thead th {\n",
       "        text-align: right;\n",
       "    }\n",
       "</style>\n",
       "<table border=\"1\" class=\"dataframe\">\n",
       "  <thead>\n",
       "    <tr style=\"text-align: right;\">\n",
       "      <th></th>\n",
       "      <th>case_id</th>\n",
       "      <th>continent</th>\n",
       "      <th>education_of_employee</th>\n",
       "      <th>has_job_experience</th>\n",
       "      <th>requires_job_training</th>\n",
       "      <th>no_of_employees</th>\n",
       "      <th>yr_of_estab</th>\n",
       "      <th>region_of_employment</th>\n",
       "      <th>prevailing_wage</th>\n",
       "      <th>unit_of_wage</th>\n",
       "      <th>full_time_position</th>\n",
       "      <th>case_status</th>\n",
       "    </tr>\n",
       "  </thead>\n",
       "  <tbody>\n",
       "    <tr>\n",
       "      <th>25475</th>\n",
       "      <td>EZYV25476</td>\n",
       "      <td>Asia</td>\n",
       "      <td>Bachelor's</td>\n",
       "      <td>Y</td>\n",
       "      <td>Y</td>\n",
       "      <td>2601</td>\n",
       "      <td>2008</td>\n",
       "      <td>South</td>\n",
       "      <td>77092.57</td>\n",
       "      <td>Year</td>\n",
       "      <td>Y</td>\n",
       "      <td>Certified</td>\n",
       "    </tr>\n",
       "    <tr>\n",
       "      <th>25476</th>\n",
       "      <td>EZYV25477</td>\n",
       "      <td>Asia</td>\n",
       "      <td>High School</td>\n",
       "      <td>Y</td>\n",
       "      <td>N</td>\n",
       "      <td>3274</td>\n",
       "      <td>2006</td>\n",
       "      <td>Northeast</td>\n",
       "      <td>279174.79</td>\n",
       "      <td>Year</td>\n",
       "      <td>Y</td>\n",
       "      <td>Certified</td>\n",
       "    </tr>\n",
       "    <tr>\n",
       "      <th>25477</th>\n",
       "      <td>EZYV25478</td>\n",
       "      <td>Asia</td>\n",
       "      <td>Master's</td>\n",
       "      <td>Y</td>\n",
       "      <td>N</td>\n",
       "      <td>1121</td>\n",
       "      <td>1910</td>\n",
       "      <td>South</td>\n",
       "      <td>146298.85</td>\n",
       "      <td>Year</td>\n",
       "      <td>N</td>\n",
       "      <td>Certified</td>\n",
       "    </tr>\n",
       "    <tr>\n",
       "      <th>25478</th>\n",
       "      <td>EZYV25479</td>\n",
       "      <td>Asia</td>\n",
       "      <td>Master's</td>\n",
       "      <td>Y</td>\n",
       "      <td>Y</td>\n",
       "      <td>1918</td>\n",
       "      <td>1887</td>\n",
       "      <td>West</td>\n",
       "      <td>86154.77</td>\n",
       "      <td>Year</td>\n",
       "      <td>Y</td>\n",
       "      <td>Certified</td>\n",
       "    </tr>\n",
       "    <tr>\n",
       "      <th>25479</th>\n",
       "      <td>EZYV25480</td>\n",
       "      <td>Asia</td>\n",
       "      <td>Bachelor's</td>\n",
       "      <td>Y</td>\n",
       "      <td>N</td>\n",
       "      <td>3195</td>\n",
       "      <td>1960</td>\n",
       "      <td>Midwest</td>\n",
       "      <td>70876.91</td>\n",
       "      <td>Year</td>\n",
       "      <td>Y</td>\n",
       "      <td>Certified</td>\n",
       "    </tr>\n",
       "  </tbody>\n",
       "</table>\n",
       "</div>"
      ],
      "text/plain": [
       "         case_id continent education_of_employee has_job_experience  \\\n",
       "25475  EZYV25476      Asia            Bachelor's                  Y   \n",
       "25476  EZYV25477      Asia           High School                  Y   \n",
       "25477  EZYV25478      Asia              Master's                  Y   \n",
       "25478  EZYV25479      Asia              Master's                  Y   \n",
       "25479  EZYV25480      Asia            Bachelor's                  Y   \n",
       "\n",
       "      requires_job_training  no_of_employees  yr_of_estab  \\\n",
       "25475                     Y             2601         2008   \n",
       "25476                     N             3274         2006   \n",
       "25477                     N             1121         1910   \n",
       "25478                     Y             1918         1887   \n",
       "25479                     N             3195         1960   \n",
       "\n",
       "      region_of_employment  prevailing_wage unit_of_wage full_time_position  \\\n",
       "25475                South         77092.57         Year                  Y   \n",
       "25476            Northeast        279174.79         Year                  Y   \n",
       "25477                South        146298.85         Year                  N   \n",
       "25478                 West         86154.77         Year                  Y   \n",
       "25479              Midwest         70876.91         Year                  Y   \n",
       "\n",
       "      case_status  \n",
       "25475   Certified  \n",
       "25476   Certified  \n",
       "25477   Certified  \n",
       "25478   Certified  \n",
       "25479   Certified  "
      ]
     },
     "execution_count": 6,
     "metadata": {},
     "output_type": "execute_result"
    }
   ],
   "source": [
    "df.tail()"
   ]
  },
  {
   "cell_type": "markdown",
   "id": "6df37d0c",
   "metadata": {},
   "source": [
    "### The shape of the data"
   ]
  },
  {
   "cell_type": "code",
   "execution_count": 7,
   "id": "386246d8",
   "metadata": {},
   "outputs": [
    {
     "data": {
      "text/plain": [
       "(25480, 12)"
      ]
     },
     "execution_count": 7,
     "metadata": {},
     "output_type": "execute_result"
    }
   ],
   "source": [
    "df.shape"
   ]
  },
  {
   "cell_type": "markdown",
   "id": "f2df7e87",
   "metadata": {},
   "source": [
    "### Check the missing value and the duplicate value"
   ]
  },
  {
   "cell_type": "code",
   "execution_count": 8,
   "id": "9d9c386f",
   "metadata": {},
   "outputs": [
    {
     "data": {
      "text/plain": [
       "case_id                  0\n",
       "continent                0\n",
       "education_of_employee    0\n",
       "has_job_experience       0\n",
       "requires_job_training    0\n",
       "no_of_employees          0\n",
       "yr_of_estab              0\n",
       "region_of_employment     0\n",
       "prevailing_wage          0\n",
       "unit_of_wage             0\n",
       "full_time_position       0\n",
       "case_status              0\n",
       "dtype: int64"
      ]
     },
     "execution_count": 8,
     "metadata": {},
     "output_type": "execute_result"
    }
   ],
   "source": [
    "df.isnull().sum()"
   ]
  },
  {
   "cell_type": "markdown",
   "id": "32d5cbf6",
   "metadata": {},
   "source": [
    "* No missing value"
   ]
  },
  {
   "cell_type": "code",
   "execution_count": 9,
   "id": "6516ec07",
   "metadata": {},
   "outputs": [
    {
     "data": {
      "text/plain": [
       "0"
      ]
     },
     "execution_count": 9,
     "metadata": {},
     "output_type": "execute_result"
    }
   ],
   "source": [
    "df.duplicated().sum()"
   ]
  },
  {
   "cell_type": "markdown",
   "id": "e1f44862",
   "metadata": {},
   "source": [
    "* No duplicated value in this dataset"
   ]
  },
  {
   "cell_type": "markdown",
   "id": "37b98fd5",
   "metadata": {},
   "source": [
    "### Check the feature of each column of the data"
   ]
  },
  {
   "cell_type": "code",
   "execution_count": 10,
   "id": "24561d70",
   "metadata": {},
   "outputs": [
    {
     "name": "stdout",
     "output_type": "stream",
     "text": [
      "<class 'pandas.core.frame.DataFrame'>\n",
      "RangeIndex: 25480 entries, 0 to 25479\n",
      "Data columns (total 12 columns):\n",
      " #   Column                 Non-Null Count  Dtype  \n",
      "---  ------                 --------------  -----  \n",
      " 0   case_id                25480 non-null  object \n",
      " 1   continent              25480 non-null  object \n",
      " 2   education_of_employee  25480 non-null  object \n",
      " 3   has_job_experience     25480 non-null  object \n",
      " 4   requires_job_training  25480 non-null  object \n",
      " 5   no_of_employees        25480 non-null  int64  \n",
      " 6   yr_of_estab            25480 non-null  int64  \n",
      " 7   region_of_employment   25480 non-null  object \n",
      " 8   prevailing_wage        25480 non-null  float64\n",
      " 9   unit_of_wage           25480 non-null  object \n",
      " 10  full_time_position     25480 non-null  object \n",
      " 11  case_status            25480 non-null  object \n",
      "dtypes: float64(1), int64(2), object(9)\n",
      "memory usage: 2.3+ MB\n"
     ]
    }
   ],
   "source": [
    "df.info()"
   ]
  },
  {
   "cell_type": "markdown",
   "id": "079e0870",
   "metadata": {},
   "source": [
    "### Check the statistical summary of the data"
   ]
  },
  {
   "cell_type": "code",
   "execution_count": 11,
   "id": "9a93329e",
   "metadata": {},
   "outputs": [
    {
     "data": {
      "text/html": [
       "<div>\n",
       "<style scoped>\n",
       "    .dataframe tbody tr th:only-of-type {\n",
       "        vertical-align: middle;\n",
       "    }\n",
       "\n",
       "    .dataframe tbody tr th {\n",
       "        vertical-align: top;\n",
       "    }\n",
       "\n",
       "    .dataframe thead th {\n",
       "        text-align: right;\n",
       "    }\n",
       "</style>\n",
       "<table border=\"1\" class=\"dataframe\">\n",
       "  <thead>\n",
       "    <tr style=\"text-align: right;\">\n",
       "      <th></th>\n",
       "      <th>no_of_employees</th>\n",
       "      <th>yr_of_estab</th>\n",
       "      <th>prevailing_wage</th>\n",
       "    </tr>\n",
       "  </thead>\n",
       "  <tbody>\n",
       "    <tr>\n",
       "      <th>count</th>\n",
       "      <td>25480.000000</td>\n",
       "      <td>25480.000000</td>\n",
       "      <td>25480.000000</td>\n",
       "    </tr>\n",
       "    <tr>\n",
       "      <th>mean</th>\n",
       "      <td>5667.043210</td>\n",
       "      <td>1979.409929</td>\n",
       "      <td>74455.814592</td>\n",
       "    </tr>\n",
       "    <tr>\n",
       "      <th>std</th>\n",
       "      <td>22877.928848</td>\n",
       "      <td>42.366929</td>\n",
       "      <td>52815.942327</td>\n",
       "    </tr>\n",
       "    <tr>\n",
       "      <th>min</th>\n",
       "      <td>-26.000000</td>\n",
       "      <td>1800.000000</td>\n",
       "      <td>2.136700</td>\n",
       "    </tr>\n",
       "    <tr>\n",
       "      <th>25%</th>\n",
       "      <td>1022.000000</td>\n",
       "      <td>1976.000000</td>\n",
       "      <td>34015.480000</td>\n",
       "    </tr>\n",
       "    <tr>\n",
       "      <th>50%</th>\n",
       "      <td>2109.000000</td>\n",
       "      <td>1997.000000</td>\n",
       "      <td>70308.210000</td>\n",
       "    </tr>\n",
       "    <tr>\n",
       "      <th>75%</th>\n",
       "      <td>3504.000000</td>\n",
       "      <td>2005.000000</td>\n",
       "      <td>107735.512500</td>\n",
       "    </tr>\n",
       "    <tr>\n",
       "      <th>max</th>\n",
       "      <td>602069.000000</td>\n",
       "      <td>2016.000000</td>\n",
       "      <td>319210.270000</td>\n",
       "    </tr>\n",
       "  </tbody>\n",
       "</table>\n",
       "</div>"
      ],
      "text/plain": [
       "       no_of_employees   yr_of_estab  prevailing_wage\n",
       "count     25480.000000  25480.000000     25480.000000\n",
       "mean       5667.043210   1979.409929     74455.814592\n",
       "std       22877.928848     42.366929     52815.942327\n",
       "min         -26.000000   1800.000000         2.136700\n",
       "25%        1022.000000   1976.000000     34015.480000\n",
       "50%        2109.000000   1997.000000     70308.210000\n",
       "75%        3504.000000   2005.000000    107735.512500\n",
       "max      602069.000000   2016.000000    319210.270000"
      ]
     },
     "execution_count": 11,
     "metadata": {},
     "output_type": "execute_result"
    }
   ],
   "source": [
    "df.describe()"
   ]
  },
  {
   "cell_type": "markdown",
   "id": "b4112f98",
   "metadata": {},
   "source": [
    "* We can notice that for some companies, the number of employees in the employer's company is negative, we need to change this problem.\n",
    "* So let's foucs on the column \"no_of_employees\"."
   ]
  },
  {
   "cell_type": "code",
   "execution_count": 12,
   "id": "927d45a4",
   "metadata": {},
   "outputs": [
    {
     "data": {
      "image/png": "[encoded data removed]",
      "text/plain": [
       "<Figure size 432x288 with 1 Axes>"
      ]
     },
     "metadata": {
      "needs_background": "light"
     },
     "output_type": "display_data"
    }
   ],
   "source": [
    "sns.boxplot(data=df,x=\"no_of_employees\");"
   ]
  },
  {
   "cell_type": "code",
   "execution_count": 13,
   "id": "b10da3fe",
   "metadata": {},
   "outputs": [
    {
     "data": {
      "text/plain": [
       "<AxesSubplot:xlabel='no_of_employees', ylabel='Count'>"
      ]
     },
     "execution_count": 13,
     "metadata": {},
     "output_type": "execute_result"
    },
    {
     "data": {
      "image/png": "[encoded data removed]",
      "text/plain": [
       "<Figure size 432x288 with 1 Axes>"
      ]
     },
     "metadata": {
      "needs_background": "light"
     },
     "output_type": "display_data"
    }
   ],
   "source": [
    "sns.histplot(data=df,x=\"no_of_employees\")"
   ]
  },
  {
   "cell_type": "markdown",
   "id": "3843dd8a",
   "metadata": {},
   "source": [
    "* We can noticed that there are so many outliers in the column \"no_of_employees\", it's hard to use mode or median to replace the negative number, so here I will assume that a staff member accidentally entered a negative number that should have been a positive number.\n",
    "* I will just change these negative number into positive number."
   ]
  },
  {
   "cell_type": "code",
   "execution_count": 14,
   "id": "e42170d6",
   "metadata": {},
   "outputs": [
    {
     "data": {
      "text/html": [
       "<div>\n",
       "<style scoped>\n",
       "    .dataframe tbody tr th:only-of-type {\n",
       "        vertical-align: middle;\n",
       "    }\n",
       "\n",
       "    .dataframe tbody tr th {\n",
       "        vertical-align: top;\n",
       "    }\n",
       "\n",
       "    .dataframe thead th {\n",
       "        text-align: right;\n",
       "    }\n",
       "</style>\n",
       "<table border=\"1\" class=\"dataframe\">\n",
       "  <thead>\n",
       "    <tr style=\"text-align: right;\">\n",
       "      <th></th>\n",
       "      <th>case_id</th>\n",
       "      <th>continent</th>\n",
       "      <th>education_of_employee</th>\n",
       "      <th>has_job_experience</th>\n",
       "      <th>requires_job_training</th>\n",
       "      <th>no_of_employees</th>\n",
       "      <th>yr_of_estab</th>\n",
       "      <th>region_of_employment</th>\n",
       "      <th>prevailing_wage</th>\n",
       "      <th>unit_of_wage</th>\n",
       "      <th>full_time_position</th>\n",
       "      <th>case_status</th>\n",
       "    </tr>\n",
       "  </thead>\n",
       "  <tbody>\n",
       "    <tr>\n",
       "      <th>245</th>\n",
       "      <td>EZYV246</td>\n",
       "      <td>Europe</td>\n",
       "      <td>Master's</td>\n",
       "      <td>N</td>\n",
       "      <td>N</td>\n",
       "      <td>-25</td>\n",
       "      <td>1980</td>\n",
       "      <td>Northeast</td>\n",
       "      <td>39452.9900</td>\n",
       "      <td>Year</td>\n",
       "      <td>Y</td>\n",
       "      <td>Certified</td>\n",
       "    </tr>\n",
       "    <tr>\n",
       "      <th>378</th>\n",
       "      <td>EZYV379</td>\n",
       "      <td>Asia</td>\n",
       "      <td>Bachelor's</td>\n",
       "      <td>N</td>\n",
       "      <td>Y</td>\n",
       "      <td>-11</td>\n",
       "      <td>2011</td>\n",
       "      <td>Northeast</td>\n",
       "      <td>32506.1400</td>\n",
       "      <td>Year</td>\n",
       "      <td>Y</td>\n",
       "      <td>Denied</td>\n",
       "    </tr>\n",
       "    <tr>\n",
       "      <th>832</th>\n",
       "      <td>EZYV833</td>\n",
       "      <td>South America</td>\n",
       "      <td>Master's</td>\n",
       "      <td>Y</td>\n",
       "      <td>N</td>\n",
       "      <td>-17</td>\n",
       "      <td>2002</td>\n",
       "      <td>South</td>\n",
       "      <td>129701.9400</td>\n",
       "      <td>Year</td>\n",
       "      <td>Y</td>\n",
       "      <td>Certified</td>\n",
       "    </tr>\n",
       "    <tr>\n",
       "      <th>2918</th>\n",
       "      <td>EZYV2919</td>\n",
       "      <td>Asia</td>\n",
       "      <td>Master's</td>\n",
       "      <td>Y</td>\n",
       "      <td>N</td>\n",
       "      <td>-26</td>\n",
       "      <td>2005</td>\n",
       "      <td>Midwest</td>\n",
       "      <td>112799.4600</td>\n",
       "      <td>Year</td>\n",
       "      <td>Y</td>\n",
       "      <td>Certified</td>\n",
       "    </tr>\n",
       "    <tr>\n",
       "      <th>6439</th>\n",
       "      <td>EZYV6440</td>\n",
       "      <td>Asia</td>\n",
       "      <td>Bachelor's</td>\n",
       "      <td>N</td>\n",
       "      <td>N</td>\n",
       "      <td>-14</td>\n",
       "      <td>2013</td>\n",
       "      <td>South</td>\n",
       "      <td>103.9700</td>\n",
       "      <td>Hour</td>\n",
       "      <td>Y</td>\n",
       "      <td>Denied</td>\n",
       "    </tr>\n",
       "    <tr>\n",
       "      <th>6634</th>\n",
       "      <td>EZYV6635</td>\n",
       "      <td>Asia</td>\n",
       "      <td>Bachelor's</td>\n",
       "      <td>Y</td>\n",
       "      <td>N</td>\n",
       "      <td>-26</td>\n",
       "      <td>1923</td>\n",
       "      <td>West</td>\n",
       "      <td>5247.3200</td>\n",
       "      <td>Year</td>\n",
       "      <td>Y</td>\n",
       "      <td>Denied</td>\n",
       "    </tr>\n",
       "    <tr>\n",
       "      <th>7224</th>\n",
       "      <td>EZYV7225</td>\n",
       "      <td>Europe</td>\n",
       "      <td>Doctorate</td>\n",
       "      <td>N</td>\n",
       "      <td>N</td>\n",
       "      <td>-25</td>\n",
       "      <td>1998</td>\n",
       "      <td>Midwest</td>\n",
       "      <td>141435.9500</td>\n",
       "      <td>Year</td>\n",
       "      <td>Y</td>\n",
       "      <td>Certified</td>\n",
       "    </tr>\n",
       "    <tr>\n",
       "      <th>7281</th>\n",
       "      <td>EZYV7282</td>\n",
       "      <td>Asia</td>\n",
       "      <td>High School</td>\n",
       "      <td>N</td>\n",
       "      <td>N</td>\n",
       "      <td>-14</td>\n",
       "      <td>2000</td>\n",
       "      <td>Midwest</td>\n",
       "      <td>58488.5000</td>\n",
       "      <td>Year</td>\n",
       "      <td>Y</td>\n",
       "      <td>Denied</td>\n",
       "    </tr>\n",
       "    <tr>\n",
       "      <th>7318</th>\n",
       "      <td>EZYV7319</td>\n",
       "      <td>Asia</td>\n",
       "      <td>Bachelor's</td>\n",
       "      <td>Y</td>\n",
       "      <td>Y</td>\n",
       "      <td>-26</td>\n",
       "      <td>2006</td>\n",
       "      <td>South</td>\n",
       "      <td>115005.6100</td>\n",
       "      <td>Year</td>\n",
       "      <td>Y</td>\n",
       "      <td>Certified</td>\n",
       "    </tr>\n",
       "    <tr>\n",
       "      <th>7761</th>\n",
       "      <td>EZYV7762</td>\n",
       "      <td>Asia</td>\n",
       "      <td>Master's</td>\n",
       "      <td>N</td>\n",
       "      <td>N</td>\n",
       "      <td>-11</td>\n",
       "      <td>2009</td>\n",
       "      <td>Midwest</td>\n",
       "      <td>38457.5100</td>\n",
       "      <td>Year</td>\n",
       "      <td>Y</td>\n",
       "      <td>Certified</td>\n",
       "    </tr>\n",
       "    <tr>\n",
       "      <th>9872</th>\n",
       "      <td>EZYV9873</td>\n",
       "      <td>Europe</td>\n",
       "      <td>Master's</td>\n",
       "      <td>Y</td>\n",
       "      <td>N</td>\n",
       "      <td>-26</td>\n",
       "      <td>1996</td>\n",
       "      <td>South</td>\n",
       "      <td>37397.0500</td>\n",
       "      <td>Year</td>\n",
       "      <td>Y</td>\n",
       "      <td>Certified</td>\n",
       "    </tr>\n",
       "    <tr>\n",
       "      <th>11493</th>\n",
       "      <td>EZYV11494</td>\n",
       "      <td>Asia</td>\n",
       "      <td>High School</td>\n",
       "      <td>Y</td>\n",
       "      <td>N</td>\n",
       "      <td>-14</td>\n",
       "      <td>1999</td>\n",
       "      <td>South</td>\n",
       "      <td>27599.3500</td>\n",
       "      <td>Year</td>\n",
       "      <td>Y</td>\n",
       "      <td>Denied</td>\n",
       "    </tr>\n",
       "    <tr>\n",
       "      <th>13471</th>\n",
       "      <td>EZYV13472</td>\n",
       "      <td>North America</td>\n",
       "      <td>Master's</td>\n",
       "      <td>N</td>\n",
       "      <td>N</td>\n",
       "      <td>-17</td>\n",
       "      <td>2003</td>\n",
       "      <td>Northeast</td>\n",
       "      <td>257.2413</td>\n",
       "      <td>Hour</td>\n",
       "      <td>Y</td>\n",
       "      <td>Denied</td>\n",
       "    </tr>\n",
       "    <tr>\n",
       "      <th>14022</th>\n",
       "      <td>EZYV14023</td>\n",
       "      <td>Asia</td>\n",
       "      <td>Bachelor's</td>\n",
       "      <td>N</td>\n",
       "      <td>Y</td>\n",
       "      <td>-11</td>\n",
       "      <td>1946</td>\n",
       "      <td>Northeast</td>\n",
       "      <td>108403.5600</td>\n",
       "      <td>Year</td>\n",
       "      <td>Y</td>\n",
       "      <td>Certified</td>\n",
       "    </tr>\n",
       "    <tr>\n",
       "      <th>14146</th>\n",
       "      <td>EZYV14147</td>\n",
       "      <td>Asia</td>\n",
       "      <td>Bachelor's</td>\n",
       "      <td>N</td>\n",
       "      <td>Y</td>\n",
       "      <td>-26</td>\n",
       "      <td>1954</td>\n",
       "      <td>West</td>\n",
       "      <td>81982.2700</td>\n",
       "      <td>Year</td>\n",
       "      <td>Y</td>\n",
       "      <td>Certified</td>\n",
       "    </tr>\n",
       "    <tr>\n",
       "      <th>14726</th>\n",
       "      <td>EZYV14727</td>\n",
       "      <td>Asia</td>\n",
       "      <td>Master's</td>\n",
       "      <td>N</td>\n",
       "      <td>N</td>\n",
       "      <td>-11</td>\n",
       "      <td>2000</td>\n",
       "      <td>Midwest</td>\n",
       "      <td>167851.8000</td>\n",
       "      <td>Year</td>\n",
       "      <td>Y</td>\n",
       "      <td>Certified</td>\n",
       "    </tr>\n",
       "    <tr>\n",
       "      <th>15600</th>\n",
       "      <td>EZYV15601</td>\n",
       "      <td>Asia</td>\n",
       "      <td>Bachelor's</td>\n",
       "      <td>N</td>\n",
       "      <td>N</td>\n",
       "      <td>-14</td>\n",
       "      <td>2014</td>\n",
       "      <td>South</td>\n",
       "      <td>24641.6100</td>\n",
       "      <td>Year</td>\n",
       "      <td>Y</td>\n",
       "      <td>Denied</td>\n",
       "    </tr>\n",
       "    <tr>\n",
       "      <th>15859</th>\n",
       "      <td>EZYV15860</td>\n",
       "      <td>Asia</td>\n",
       "      <td>High School</td>\n",
       "      <td>N</td>\n",
       "      <td>N</td>\n",
       "      <td>-11</td>\n",
       "      <td>1969</td>\n",
       "      <td>South</td>\n",
       "      <td>44640.6000</td>\n",
       "      <td>Year</td>\n",
       "      <td>Y</td>\n",
       "      <td>Denied</td>\n",
       "    </tr>\n",
       "    <tr>\n",
       "      <th>16157</th>\n",
       "      <td>EZYV16158</td>\n",
       "      <td>Asia</td>\n",
       "      <td>Master's</td>\n",
       "      <td>Y</td>\n",
       "      <td>N</td>\n",
       "      <td>-11</td>\n",
       "      <td>1994</td>\n",
       "      <td>South</td>\n",
       "      <td>62681.2500</td>\n",
       "      <td>Year</td>\n",
       "      <td>Y</td>\n",
       "      <td>Certified</td>\n",
       "    </tr>\n",
       "    <tr>\n",
       "      <th>16883</th>\n",
       "      <td>EZYV16884</td>\n",
       "      <td>North America</td>\n",
       "      <td>Bachelor's</td>\n",
       "      <td>Y</td>\n",
       "      <td>N</td>\n",
       "      <td>-26</td>\n",
       "      <td>1968</td>\n",
       "      <td>Northeast</td>\n",
       "      <td>168.1558</td>\n",
       "      <td>Hour</td>\n",
       "      <td>Y</td>\n",
       "      <td>Denied</td>\n",
       "    </tr>\n",
       "    <tr>\n",
       "      <th>17006</th>\n",
       "      <td>EZYV17007</td>\n",
       "      <td>Asia</td>\n",
       "      <td>Doctorate</td>\n",
       "      <td>Y</td>\n",
       "      <td>N</td>\n",
       "      <td>-11</td>\n",
       "      <td>1984</td>\n",
       "      <td>West</td>\n",
       "      <td>25753.5100</td>\n",
       "      <td>Year</td>\n",
       "      <td>Y</td>\n",
       "      <td>Denied</td>\n",
       "    </tr>\n",
       "    <tr>\n",
       "      <th>17655</th>\n",
       "      <td>EZYV17656</td>\n",
       "      <td>North America</td>\n",
       "      <td>Bachelor's</td>\n",
       "      <td>Y</td>\n",
       "      <td>N</td>\n",
       "      <td>-17</td>\n",
       "      <td>2007</td>\n",
       "      <td>Northeast</td>\n",
       "      <td>129753.1800</td>\n",
       "      <td>Year</td>\n",
       "      <td>Y</td>\n",
       "      <td>Denied</td>\n",
       "    </tr>\n",
       "    <tr>\n",
       "      <th>17844</th>\n",
       "      <td>EZYV17845</td>\n",
       "      <td>Asia</td>\n",
       "      <td>Bachelor's</td>\n",
       "      <td>N</td>\n",
       "      <td>N</td>\n",
       "      <td>-14</td>\n",
       "      <td>2012</td>\n",
       "      <td>West</td>\n",
       "      <td>29325.8500</td>\n",
       "      <td>Year</td>\n",
       "      <td>Y</td>\n",
       "      <td>Denied</td>\n",
       "    </tr>\n",
       "    <tr>\n",
       "      <th>17983</th>\n",
       "      <td>EZYV17984</td>\n",
       "      <td>Asia</td>\n",
       "      <td>Bachelor's</td>\n",
       "      <td>N</td>\n",
       "      <td>N</td>\n",
       "      <td>-26</td>\n",
       "      <td>2004</td>\n",
       "      <td>South</td>\n",
       "      <td>84359.9800</td>\n",
       "      <td>Year</td>\n",
       "      <td>Y</td>\n",
       "      <td>Denied</td>\n",
       "    </tr>\n",
       "    <tr>\n",
       "      <th>20815</th>\n",
       "      <td>EZYV20816</td>\n",
       "      <td>Asia</td>\n",
       "      <td>Bachelor's</td>\n",
       "      <td>N</td>\n",
       "      <td>Y</td>\n",
       "      <td>-17</td>\n",
       "      <td>1990</td>\n",
       "      <td>West</td>\n",
       "      <td>91897.5700</td>\n",
       "      <td>Year</td>\n",
       "      <td>Y</td>\n",
       "      <td>Certified</td>\n",
       "    </tr>\n",
       "    <tr>\n",
       "      <th>20984</th>\n",
       "      <td>EZYV20985</td>\n",
       "      <td>Europe</td>\n",
       "      <td>Doctorate</td>\n",
       "      <td>Y</td>\n",
       "      <td>N</td>\n",
       "      <td>-14</td>\n",
       "      <td>1989</td>\n",
       "      <td>Midwest</td>\n",
       "      <td>37012.8000</td>\n",
       "      <td>Year</td>\n",
       "      <td>Y</td>\n",
       "      <td>Certified</td>\n",
       "    </tr>\n",
       "    <tr>\n",
       "      <th>21255</th>\n",
       "      <td>EZYV21256</td>\n",
       "      <td>North America</td>\n",
       "      <td>High School</td>\n",
       "      <td>N</td>\n",
       "      <td>N</td>\n",
       "      <td>-25</td>\n",
       "      <td>1987</td>\n",
       "      <td>South</td>\n",
       "      <td>99405.4700</td>\n",
       "      <td>Year</td>\n",
       "      <td>N</td>\n",
       "      <td>Denied</td>\n",
       "    </tr>\n",
       "    <tr>\n",
       "      <th>21760</th>\n",
       "      <td>EZYV21761</td>\n",
       "      <td>Asia</td>\n",
       "      <td>Bachelor's</td>\n",
       "      <td>Y</td>\n",
       "      <td>N</td>\n",
       "      <td>-25</td>\n",
       "      <td>2000</td>\n",
       "      <td>West</td>\n",
       "      <td>100463.5800</td>\n",
       "      <td>Year</td>\n",
       "      <td>Y</td>\n",
       "      <td>Certified</td>\n",
       "    </tr>\n",
       "    <tr>\n",
       "      <th>21944</th>\n",
       "      <td>EZYV21945</td>\n",
       "      <td>Africa</td>\n",
       "      <td>Master's</td>\n",
       "      <td>Y</td>\n",
       "      <td>N</td>\n",
       "      <td>-25</td>\n",
       "      <td>1977</td>\n",
       "      <td>Midwest</td>\n",
       "      <td>79150.5100</td>\n",
       "      <td>Year</td>\n",
       "      <td>Y</td>\n",
       "      <td>Certified</td>\n",
       "    </tr>\n",
       "    <tr>\n",
       "      <th>22084</th>\n",
       "      <td>EZYV22085</td>\n",
       "      <td>North America</td>\n",
       "      <td>Bachelor's</td>\n",
       "      <td>Y</td>\n",
       "      <td>N</td>\n",
       "      <td>-14</td>\n",
       "      <td>1980</td>\n",
       "      <td>West</td>\n",
       "      <td>691.0609</td>\n",
       "      <td>Hour</td>\n",
       "      <td>Y</td>\n",
       "      <td>Denied</td>\n",
       "    </tr>\n",
       "    <tr>\n",
       "      <th>22388</th>\n",
       "      <td>EZYV22389</td>\n",
       "      <td>Asia</td>\n",
       "      <td>Master's</td>\n",
       "      <td>Y</td>\n",
       "      <td>N</td>\n",
       "      <td>-14</td>\n",
       "      <td>1986</td>\n",
       "      <td>South</td>\n",
       "      <td>17893.1100</td>\n",
       "      <td>Year</td>\n",
       "      <td>Y</td>\n",
       "      <td>Certified</td>\n",
       "    </tr>\n",
       "    <tr>\n",
       "      <th>23186</th>\n",
       "      <td>EZYV23187</td>\n",
       "      <td>Asia</td>\n",
       "      <td>Master's</td>\n",
       "      <td>N</td>\n",
       "      <td>Y</td>\n",
       "      <td>-11</td>\n",
       "      <td>2007</td>\n",
       "      <td>Midwest</td>\n",
       "      <td>120195.3500</td>\n",
       "      <td>Year</td>\n",
       "      <td>Y</td>\n",
       "      <td>Certified</td>\n",
       "    </tr>\n",
       "    <tr>\n",
       "      <th>23476</th>\n",
       "      <td>EZYV23477</td>\n",
       "      <td>Europe</td>\n",
       "      <td>Master's</td>\n",
       "      <td>Y</td>\n",
       "      <td>N</td>\n",
       "      <td>-11</td>\n",
       "      <td>2000</td>\n",
       "      <td>West</td>\n",
       "      <td>95072.7500</td>\n",
       "      <td>Year</td>\n",
       "      <td>Y</td>\n",
       "      <td>Denied</td>\n",
       "    </tr>\n",
       "  </tbody>\n",
       "</table>\n",
       "</div>"
      ],
      "text/plain": [
       "         case_id      continent education_of_employee has_job_experience  \\\n",
       "245      EZYV246         Europe              Master's                  N   \n",
       "378      EZYV379           Asia            Bachelor's                  N   \n",
       "832      EZYV833  South America              Master's                  Y   \n",
       "2918    EZYV2919           Asia              Master's                  Y   \n",
       "6439    EZYV6440           Asia            Bachelor's                  N   \n",
       "6634    EZYV6635           Asia            Bachelor's                  Y   \n",
       "7224    EZYV7225         Europe             Doctorate                  N   \n",
       "7281    EZYV7282           Asia           High School                  N   \n",
       "7318    EZYV7319           Asia            Bachelor's                  Y   \n",
       "7761    EZYV7762           Asia              Master's                  N   \n",
       "9872    EZYV9873         Europe              Master's                  Y   \n",
       "11493  EZYV11494           Asia           High School                  Y   \n",
       "13471  EZYV13472  North America              Master's                  N   \n",
       "14022  EZYV14023           Asia            Bachelor's                  N   \n",
       "14146  EZYV14147           Asia            Bachelor's                  N   \n",
       "14726  EZYV14727           Asia              Master's                  N   \n",
       "15600  EZYV15601           Asia            Bachelor's                  N   \n",
       "15859  EZYV15860           Asia           High School                  N   \n",
       "16157  EZYV16158           Asia              Master's                  Y   \n",
       "16883  EZYV16884  North America            Bachelor's                  Y   \n",
       "17006  EZYV17007           Asia             Doctorate                  Y   \n",
       "17655  EZYV17656  North America            Bachelor's                  Y   \n",
       "17844  EZYV17845           Asia            Bachelor's                  N   \n",
       "17983  EZYV17984           Asia            Bachelor's                  N   \n",
       "20815  EZYV20816           Asia            Bachelor's                  N   \n",
       "20984  EZYV20985         Europe             Doctorate                  Y   \n",
       "21255  EZYV21256  North America           High School                  N   \n",
       "21760  EZYV21761           Asia            Bachelor's                  Y   \n",
       "21944  EZYV21945         Africa              Master's                  Y   \n",
       "22084  EZYV22085  North America            Bachelor's                  Y   \n",
       "22388  EZYV22389           Asia              Master's                  Y   \n",
       "23186  EZYV23187           Asia              Master's                  N   \n",
       "23476  EZYV23477         Europe              Master's                  Y   \n",
       "\n",
       "      requires_job_training  no_of_employees  yr_of_estab  \\\n",
       "245                       N              -25         1980   \n",
       "378                       Y              -11         2011   \n",
       "832                       N              -17         2002   \n",
       "2918                      N              -26         2005   \n",
       "6439                      N              -14         2013   \n",
       "6634                      N              -26         1923   \n",
       "7224                      N              -25         1998   \n",
       "7281                      N              -14         2000   \n",
       "7318                      Y              -26         2006   \n",
       "7761                      N              -11         2009   \n",
       "9872                      N              -26         1996   \n",
       "11493                     N              -14         1999   \n",
       "13471                     N              -17         2003   \n",
       "14022                     Y              -11         1946   \n",
       "14146                     Y              -26         1954   \n",
       "14726                     N              -11         2000   \n",
       "15600                     N              -14         2014   \n",
       "15859                     N              -11         1969   \n",
       "16157                     N              -11         1994   \n",
       "16883                     N              -26         1968   \n",
       "17006                     N              -11         1984   \n",
       "17655                     N              -17         2007   \n",
       "17844                     N              -14         2012   \n",
       "17983                     N              -26         2004   \n",
       "20815                     Y              -17         1990   \n",
       "20984                     N              -14         1989   \n",
       "21255                     N              -25         1987   \n",
       "21760                     N              -25         2000   \n",
       "21944                     N              -25         1977   \n",
       "22084                     N              -14         1980   \n",
       "22388                     N              -14         1986   \n",
       "23186                     Y              -11         2007   \n",
       "23476                     N              -11         2000   \n",
       "\n",
       "      region_of_employment  prevailing_wage unit_of_wage full_time_position  \\\n",
       "245              Northeast       39452.9900         Year                  Y   \n",
       "378              Northeast       32506.1400         Year                  Y   \n",
       "832                  South      129701.9400         Year                  Y   \n",
       "2918               Midwest      112799.4600         Year                  Y   \n",
       "6439                 South         103.9700         Hour                  Y   \n",
       "6634                  West        5247.3200         Year                  Y   \n",
       "7224               Midwest      141435.9500         Year                  Y   \n",
       "7281               Midwest       58488.5000         Year                  Y   \n",
       "7318                 South      115005.6100         Year                  Y   \n",
       "7761               Midwest       38457.5100         Year                  Y   \n",
       "9872                 South       37397.0500         Year                  Y   \n",
       "11493                South       27599.3500         Year                  Y   \n",
       "13471            Northeast         257.2413         Hour                  Y   \n",
       "14022            Northeast      108403.5600         Year                  Y   \n",
       "14146                 West       81982.2700         Year                  Y   \n",
       "14726              Midwest      167851.8000         Year                  Y   \n",
       "15600                South       24641.6100         Year                  Y   \n",
       "15859                South       44640.6000         Year                  Y   \n",
       "16157                South       62681.2500         Year                  Y   \n",
       "16883            Northeast         168.1558         Hour                  Y   \n",
       "17006                 West       25753.5100         Year                  Y   \n",
       "17655            Northeast      129753.1800         Year                  Y   \n",
       "17844                 West       29325.8500         Year                  Y   \n",
       "17983                South       84359.9800         Year                  Y   \n",
       "20815                 West       91897.5700         Year                  Y   \n",
       "20984              Midwest       37012.8000         Year                  Y   \n",
       "21255                South       99405.4700         Year                  N   \n",
       "21760                 West      100463.5800         Year                  Y   \n",
       "21944              Midwest       79150.5100         Year                  Y   \n",
       "22084                 West         691.0609         Hour                  Y   \n",
       "22388                South       17893.1100         Year                  Y   \n",
       "23186              Midwest      120195.3500         Year                  Y   \n",
       "23476                 West       95072.7500         Year                  Y   \n",
       "\n",
       "      case_status  \n",
       "245     Certified  \n",
       "378        Denied  \n",
       "832     Certified  \n",
       "2918    Certified  \n",
       "6439       Denied  \n",
       "6634       Denied  \n",
       "7224    Certified  \n",
       "7281       Denied  \n",
       "7318    Certified  \n",
       "7761    Certified  \n",
       "9872    Certified  \n",
       "11493      Denied  \n",
       "13471      Denied  \n",
       "14022   Certified  \n",
       "14146   Certified  \n",
       "14726   Certified  \n",
       "15600      Denied  \n",
       "15859      Denied  \n",
       "16157   Certified  \n",
       "16883      Denied  \n",
       "17006      Denied  \n",
       "17655      Denied  \n",
       "17844      Denied  \n",
       "17983      Denied  \n",
       "20815   Certified  \n",
       "20984   Certified  \n",
       "21255      Denied  \n",
       "21760   Certified  \n",
       "21944   Certified  \n",
       "22084      Denied  \n",
       "22388   Certified  \n",
       "23186   Certified  \n",
       "23476      Denied  "
      ]
     },
     "execution_count": 14,
     "metadata": {},
     "output_type": "execute_result"
    }
   ],
   "source": [
    "df.loc[df[\"no_of_employees\"]<0]"
   ]
  },
  {
   "cell_type": "code",
   "execution_count": 15,
   "id": "b2a5641f",
   "metadata": {},
   "outputs": [],
   "source": [
    "df[\"no_of_employees\"]=df[\"no_of_employees\"].abs()"
   ]
  },
  {
   "cell_type": "markdown",
   "id": "c8d2b095",
   "metadata": {},
   "source": [
    "* Let's check it again."
   ]
  },
  {
   "cell_type": "code",
   "execution_count": 16,
   "id": "ba58c6e9",
   "metadata": {},
   "outputs": [
    {
     "data": {
      "text/html": [
       "<div>\n",
       "<style scoped>\n",
       "    .dataframe tbody tr th:only-of-type {\n",
       "        vertical-align: middle;\n",
       "    }\n",
       "\n",
       "    .dataframe tbody tr th {\n",
       "        vertical-align: top;\n",
       "    }\n",
       "\n",
       "    .dataframe thead th {\n",
       "        text-align: right;\n",
       "    }\n",
       "</style>\n",
       "<table border=\"1\" class=\"dataframe\">\n",
       "  <thead>\n",
       "    <tr style=\"text-align: right;\">\n",
       "      <th></th>\n",
       "      <th>no_of_employees</th>\n",
       "      <th>yr_of_estab</th>\n",
       "      <th>prevailing_wage</th>\n",
       "    </tr>\n",
       "  </thead>\n",
       "  <tbody>\n",
       "    <tr>\n",
       "      <th>count</th>\n",
       "      <td>25480.000000</td>\n",
       "      <td>25480.000000</td>\n",
       "      <td>25480.000000</td>\n",
       "    </tr>\n",
       "    <tr>\n",
       "      <th>mean</th>\n",
       "      <td>5667.089207</td>\n",
       "      <td>1979.409929</td>\n",
       "      <td>74455.814592</td>\n",
       "    </tr>\n",
       "    <tr>\n",
       "      <th>std</th>\n",
       "      <td>22877.917453</td>\n",
       "      <td>42.366929</td>\n",
       "      <td>52815.942327</td>\n",
       "    </tr>\n",
       "    <tr>\n",
       "      <th>min</th>\n",
       "      <td>11.000000</td>\n",
       "      <td>1800.000000</td>\n",
       "      <td>2.136700</td>\n",
       "    </tr>\n",
       "    <tr>\n",
       "      <th>25%</th>\n",
       "      <td>1022.000000</td>\n",
       "      <td>1976.000000</td>\n",
       "      <td>34015.480000</td>\n",
       "    </tr>\n",
       "    <tr>\n",
       "      <th>50%</th>\n",
       "      <td>2109.000000</td>\n",
       "      <td>1997.000000</td>\n",
       "      <td>70308.210000</td>\n",
       "    </tr>\n",
       "    <tr>\n",
       "      <th>75%</th>\n",
       "      <td>3504.000000</td>\n",
       "      <td>2005.000000</td>\n",
       "      <td>107735.512500</td>\n",
       "    </tr>\n",
       "    <tr>\n",
       "      <th>max</th>\n",
       "      <td>602069.000000</td>\n",
       "      <td>2016.000000</td>\n",
       "      <td>319210.270000</td>\n",
       "    </tr>\n",
       "  </tbody>\n",
       "</table>\n",
       "</div>"
      ],
      "text/plain": [
       "       no_of_employees   yr_of_estab  prevailing_wage\n",
       "count     25480.000000  25480.000000     25480.000000\n",
       "mean       5667.089207   1979.409929     74455.814592\n",
       "std       22877.917453     42.366929     52815.942327\n",
       "min          11.000000   1800.000000         2.136700\n",
       "25%        1022.000000   1976.000000     34015.480000\n",
       "50%        2109.000000   1997.000000     70308.210000\n",
       "75%        3504.000000   2005.000000    107735.512500\n",
       "max      602069.000000   2016.000000    319210.270000"
      ]
     },
     "execution_count": 16,
     "metadata": {},
     "output_type": "execute_result"
    }
   ],
   "source": [
    "df.describe()"
   ]
  },
  {
   "cell_type": "markdown",
   "id": "2c7b6fae",
   "metadata": {},
   "source": [
    "* There's no negative number in the column \"no_of_employees\""
   ]
  },
  {
   "cell_type": "markdown",
   "id": "0d6f7498",
   "metadata": {},
   "source": [
    "### Now, let's check the category column"
   ]
  },
  {
   "cell_type": "code",
   "execution_count": 17,
   "id": "974265f3",
   "metadata": {},
   "outputs": [
    {
     "name": "stdout",
     "output_type": "stream",
     "text": [
      "EZYV01       1\n",
      "EZYV16995    1\n",
      "EZYV16993    1\n",
      "EZYV16992    1\n",
      "EZYV16991    1\n",
      "            ..\n",
      "EZYV8492     1\n",
      "EZYV8491     1\n",
      "EZYV8490     1\n",
      "EZYV8489     1\n",
      "EZYV25480    1\n",
      "Name: case_id, Length: 25480, dtype: int64\n",
      "--------------------------------------------------\n",
      "Asia             16861\n",
      "Europe            3732\n",
      "North America     3292\n",
      "South America      852\n",
      "Africa             551\n",
      "Oceania            192\n",
      "Name: continent, dtype: int64\n",
      "--------------------------------------------------\n",
      "Bachelor's     10234\n",
      "Master's        9634\n",
      "High School     3420\n",
      "Doctorate       2192\n",
      "Name: education_of_employee, dtype: int64\n",
      "--------------------------------------------------\n",
      "Y    14802\n",
      "N    10678\n",
      "Name: has_job_experience, dtype: int64\n",
      "--------------------------------------------------\n",
      "N    22525\n",
      "Y     2955\n",
      "Name: requires_job_training, dtype: int64\n",
      "--------------------------------------------------\n",
      "Northeast    7195\n",
      "South        7017\n",
      "West         6586\n",
      "Midwest      4307\n",
      "Island        375\n",
      "Name: region_of_employment, dtype: int64\n",
      "--------------------------------------------------\n",
      "Year     22962\n",
      "Hour      2157\n",
      "Week       272\n",
      "Month       89\n",
      "Name: unit_of_wage, dtype: int64\n",
      "--------------------------------------------------\n",
      "Y    22773\n",
      "N     2707\n",
      "Name: full_time_position, dtype: int64\n",
      "--------------------------------------------------\n",
      "Certified    17018\n",
      "Denied        8462\n",
      "Name: case_status, dtype: int64\n",
      "--------------------------------------------------\n"
     ]
    }
   ],
   "source": [
    "category_col = list(df.select_dtypes(\"object\").columns)\n",
    "for i in category_col:\n",
    "    print(df[i].value_counts())\n",
    "    print(\"-\" * 50)"
   ]
  },
  {
   "cell_type": "markdown",
   "id": "d9140090",
   "metadata": {},
   "source": [
    "### Due to the feature of the column case_id, we will drop this column."
   ]
  },
  {
   "cell_type": "code",
   "execution_count": 18,
   "id": "95e756d9",
   "metadata": {},
   "outputs": [],
   "source": [
    "df.drop([\"case_id\"], axis=1, inplace=True)"
   ]
  },
  {
   "cell_type": "markdown",
   "id": "e4432cc4",
   "metadata": {},
   "source": [
    "### Let's check the data one more time"
   ]
  },
  {
   "cell_type": "code",
   "execution_count": 19,
   "id": "7f9c49cb",
   "metadata": {},
   "outputs": [
    {
     "data": {
      "text/html": [
       "<div>\n",
       "<style scoped>\n",
       "    .dataframe tbody tr th:only-of-type {\n",
       "        vertical-align: middle;\n",
       "    }\n",
       "\n",
       "    .dataframe tbody tr th {\n",
       "        vertical-align: top;\n",
       "    }\n",
       "\n",
       "    .dataframe thead th {\n",
       "        text-align: right;\n",
       "    }\n",
       "</style>\n",
       "<table border=\"1\" class=\"dataframe\">\n",
       "  <thead>\n",
       "    <tr style=\"text-align: right;\">\n",
       "      <th></th>\n",
       "      <th>continent</th>\n",
       "      <th>education_of_employee</th>\n",
       "      <th>has_job_experience</th>\n",
       "      <th>requires_job_training</th>\n",
       "      <th>no_of_employees</th>\n",
       "      <th>yr_of_estab</th>\n",
       "      <th>region_of_employment</th>\n",
       "      <th>prevailing_wage</th>\n",
       "      <th>unit_of_wage</th>\n",
       "      <th>full_time_position</th>\n",
       "      <th>case_status</th>\n",
       "    </tr>\n",
       "  </thead>\n",
       "  <tbody>\n",
       "    <tr>\n",
       "      <th>0</th>\n",
       "      <td>Asia</td>\n",
       "      <td>High School</td>\n",
       "      <td>N</td>\n",
       "      <td>N</td>\n",
       "      <td>14513</td>\n",
       "      <td>2007</td>\n",
       "      <td>West</td>\n",
       "      <td>592.2029</td>\n",
       "      <td>Hour</td>\n",
       "      <td>Y</td>\n",
       "      <td>Denied</td>\n",
       "    </tr>\n",
       "    <tr>\n",
       "      <th>1</th>\n",
       "      <td>Asia</td>\n",
       "      <td>Master's</td>\n",
       "      <td>Y</td>\n",
       "      <td>N</td>\n",
       "      <td>2412</td>\n",
       "      <td>2002</td>\n",
       "      <td>Northeast</td>\n",
       "      <td>83425.6500</td>\n",
       "      <td>Year</td>\n",
       "      <td>Y</td>\n",
       "      <td>Certified</td>\n",
       "    </tr>\n",
       "    <tr>\n",
       "      <th>2</th>\n",
       "      <td>Asia</td>\n",
       "      <td>Bachelor's</td>\n",
       "      <td>N</td>\n",
       "      <td>Y</td>\n",
       "      <td>44444</td>\n",
       "      <td>2008</td>\n",
       "      <td>West</td>\n",
       "      <td>122996.8600</td>\n",
       "      <td>Year</td>\n",
       "      <td>Y</td>\n",
       "      <td>Denied</td>\n",
       "    </tr>\n",
       "    <tr>\n",
       "      <th>3</th>\n",
       "      <td>Asia</td>\n",
       "      <td>Bachelor's</td>\n",
       "      <td>N</td>\n",
       "      <td>N</td>\n",
       "      <td>98</td>\n",
       "      <td>1897</td>\n",
       "      <td>West</td>\n",
       "      <td>83434.0300</td>\n",
       "      <td>Year</td>\n",
       "      <td>Y</td>\n",
       "      <td>Denied</td>\n",
       "    </tr>\n",
       "    <tr>\n",
       "      <th>4</th>\n",
       "      <td>Africa</td>\n",
       "      <td>Master's</td>\n",
       "      <td>Y</td>\n",
       "      <td>N</td>\n",
       "      <td>1082</td>\n",
       "      <td>2005</td>\n",
       "      <td>South</td>\n",
       "      <td>149907.3900</td>\n",
       "      <td>Year</td>\n",
       "      <td>Y</td>\n",
       "      <td>Certified</td>\n",
       "    </tr>\n",
       "  </tbody>\n",
       "</table>\n",
       "</div>"
      ],
      "text/plain": [
       "  continent education_of_employee has_job_experience requires_job_training  \\\n",
       "0      Asia           High School                  N                     N   \n",
       "1      Asia              Master's                  Y                     N   \n",
       "2      Asia            Bachelor's                  N                     Y   \n",
       "3      Asia            Bachelor's                  N                     N   \n",
       "4    Africa              Master's                  Y                     N   \n",
       "\n",
       "   no_of_employees  yr_of_estab region_of_employment  prevailing_wage  \\\n",
       "0            14513         2007                 West         592.2029   \n",
       "1             2412         2002            Northeast       83425.6500   \n",
       "2            44444         2008                 West      122996.8600   \n",
       "3               98         1897                 West       83434.0300   \n",
       "4             1082         2005                South      149907.3900   \n",
       "\n",
       "  unit_of_wage full_time_position case_status  \n",
       "0         Hour                  Y      Denied  \n",
       "1         Year                  Y   Certified  \n",
       "2         Year                  Y      Denied  \n",
       "3         Year                  Y      Denied  \n",
       "4         Year                  Y   Certified  "
      ]
     },
     "execution_count": 19,
     "metadata": {},
     "output_type": "execute_result"
    }
   ],
   "source": [
    "df.head()"
   ]
  },
  {
   "cell_type": "code",
   "execution_count": 20,
   "id": "f21c13f1",
   "metadata": {},
   "outputs": [
    {
     "data": {
      "text/plain": [
       "(25480, 11)"
      ]
     },
     "execution_count": 20,
     "metadata": {},
     "output_type": "execute_result"
    }
   ],
   "source": [
    "df.shape"
   ]
  },
  {
   "cell_type": "code",
   "execution_count": 21,
   "id": "16cdabf8",
   "metadata": {},
   "outputs": [
    {
     "name": "stdout",
     "output_type": "stream",
     "text": [
      "<class 'pandas.core.frame.DataFrame'>\n",
      "RangeIndex: 25480 entries, 0 to 25479\n",
      "Data columns (total 11 columns):\n",
      " #   Column                 Non-Null Count  Dtype  \n",
      "---  ------                 --------------  -----  \n",
      " 0   continent              25480 non-null  object \n",
      " 1   education_of_employee  25480 non-null  object \n",
      " 2   has_job_experience     25480 non-null  object \n",
      " 3   requires_job_training  25480 non-null  object \n",
      " 4   no_of_employees        25480 non-null  int64  \n",
      " 5   yr_of_estab            25480 non-null  int64  \n",
      " 6   region_of_employment   25480 non-null  object \n",
      " 7   prevailing_wage        25480 non-null  float64\n",
      " 8   unit_of_wage           25480 non-null  object \n",
      " 9   full_time_position     25480 non-null  object \n",
      " 10  case_status            25480 non-null  object \n",
      "dtypes: float64(1), int64(2), object(8)\n",
      "memory usage: 2.1+ MB\n"
     ]
    }
   ],
   "source": [
    "df.info()"
   ]
  },
  {
   "cell_type": "code",
   "execution_count": 22,
   "id": "343219eb",
   "metadata": {},
   "outputs": [
    {
     "data": {
      "text/html": [
       "<div>\n",
       "<style scoped>\n",
       "    .dataframe tbody tr th:only-of-type {\n",
       "        vertical-align: middle;\n",
       "    }\n",
       "\n",
       "    .dataframe tbody tr th {\n",
       "        vertical-align: top;\n",
       "    }\n",
       "\n",
       "    .dataframe thead th {\n",
       "        text-align: right;\n",
       "    }\n",
       "</style>\n",
       "<table border=\"1\" class=\"dataframe\">\n",
       "  <thead>\n",
       "    <tr style=\"text-align: right;\">\n",
       "      <th></th>\n",
       "      <th>no_of_employees</th>\n",
       "      <th>yr_of_estab</th>\n",
       "      <th>prevailing_wage</th>\n",
       "    </tr>\n",
       "  </thead>\n",
       "  <tbody>\n",
       "    <tr>\n",
       "      <th>count</th>\n",
       "      <td>25480.000000</td>\n",
       "      <td>25480.000000</td>\n",
       "      <td>25480.000000</td>\n",
       "    </tr>\n",
       "    <tr>\n",
       "      <th>mean</th>\n",
       "      <td>5667.089207</td>\n",
       "      <td>1979.409929</td>\n",
       "      <td>74455.814592</td>\n",
       "    </tr>\n",
       "    <tr>\n",
       "      <th>std</th>\n",
       "      <td>22877.917453</td>\n",
       "      <td>42.366929</td>\n",
       "      <td>52815.942327</td>\n",
       "    </tr>\n",
       "    <tr>\n",
       "      <th>min</th>\n",
       "      <td>11.000000</td>\n",
       "      <td>1800.000000</td>\n",
       "      <td>2.136700</td>\n",
       "    </tr>\n",
       "    <tr>\n",
       "      <th>25%</th>\n",
       "      <td>1022.000000</td>\n",
       "      <td>1976.000000</td>\n",
       "      <td>34015.480000</td>\n",
       "    </tr>\n",
       "    <tr>\n",
       "      <th>50%</th>\n",
       "      <td>2109.000000</td>\n",
       "      <td>1997.000000</td>\n",
       "      <td>70308.210000</td>\n",
       "    </tr>\n",
       "    <tr>\n",
       "      <th>75%</th>\n",
       "      <td>3504.000000</td>\n",
       "      <td>2005.000000</td>\n",
       "      <td>107735.512500</td>\n",
       "    </tr>\n",
       "    <tr>\n",
       "      <th>max</th>\n",
       "      <td>602069.000000</td>\n",
       "      <td>2016.000000</td>\n",
       "      <td>319210.270000</td>\n",
       "    </tr>\n",
       "  </tbody>\n",
       "</table>\n",
       "</div>"
      ],
      "text/plain": [
       "       no_of_employees   yr_of_estab  prevailing_wage\n",
       "count     25480.000000  25480.000000     25480.000000\n",
       "mean       5667.089207   1979.409929     74455.814592\n",
       "std       22877.917453     42.366929     52815.942327\n",
       "min          11.000000   1800.000000         2.136700\n",
       "25%        1022.000000   1976.000000     34015.480000\n",
       "50%        2109.000000   1997.000000     70308.210000\n",
       "75%        3504.000000   2005.000000    107735.512500\n",
       "max      602069.000000   2016.000000    319210.270000"
      ]
     },
     "execution_count": 22,
     "metadata": {},
     "output_type": "execute_result"
    }
   ],
   "source": [
    "df.describe()"
   ]
  },
  {
   "cell_type": "markdown",
   "id": "3fe9d773",
   "metadata": {},
   "source": [
    "* Now everything looks good."
   ]
  },
  {
   "cell_type": "markdown",
   "id": "seasonal-calibration",
   "metadata": {
    "id": "seasonal-calibration"
   },
   "source": [
    "## Exploratory Data Analysis (EDA)\n",
    "\n",
    "- EDA is an important part of any project involving data.\n",
    "- It is important to investigate and understand the data better before building a model with it.\n",
    "- A few questions have been mentioned below which will help you approach the analysis in the right manner and generate insights from the data.\n",
    "- A thorough analysis of the data, in addition to the questions mentioned below, should be done."
   ]
  },
  {
   "cell_type": "markdown",
   "id": "classified-traveler",
   "metadata": {
    "id": "classified-traveler"
   },
   "source": [
    "**Leading Questions**:\n",
    "1. Those with higher education may want to travel abroad for a well-paid job. Does education play a role in Visa certification? \n",
    "\n",
    "2. How does the visa status vary across different continents? \n",
    " \n",
    "3. Experienced professionals might look abroad for opportunities to improve their lifestyles and career development. Does work experience influence visa status? \n",
    " \n",
    "4. In the United States, employees are paid at different intervals. Which pay unit is most likely to be certified for a visa? \n",
    " \n",
    "5. The US government has established a prevailing wage to protect local talent and foreign workers. How does the visa status change with the prevailing wage?"
   ]
  },
  {
   "cell_type": "markdown",
   "id": "543d5036",
   "metadata": {
    "id": "right-permit"
   },
   "source": [
    "* Question1: Does education play a role in Visa certification?"
   ]
  },
  {
   "cell_type": "code",
   "execution_count": 23,
   "id": "7ede480f",
   "metadata": {},
   "outputs": [
    {
     "data": {
      "text/plain": [
       "<AxesSubplot:xlabel='education_of_employee', ylabel='count'>"
      ]
     },
     "execution_count": 23,
     "metadata": {},
     "output_type": "execute_result"
    },
    {
     "data": {
      "image/png": "[encoded data removed]",
      "text/plain": [
       "<Figure size 432x288 with 1 Axes>"
      ]
     },
     "metadata": {
      "needs_background": "light"
     },
     "output_type": "display_data"
    }
   ],
   "source": [
    "sns.countplot(data=df,x=\"education_of_employee\",hue=\"case_status\")"
   ]
  },
  {
   "cell_type": "markdown",
   "id": "52290ab8",
   "metadata": {},
   "source": [
    "* Education plays an important role here, the higher the degree, the lower the chance of an applicant being rejected, and the number of applicants for master's and bachelor's degrees is far greater than the number of applicants with only a high school degree."
   ]
  },
  {
   "cell_type": "markdown",
   "id": "3fa442c3",
   "metadata": {},
   "source": [
    "* Question2: How does the visa status vary across different continents?"
   ]
  },
  {
   "cell_type": "code",
   "execution_count": 24,
   "id": "af038c91",
   "metadata": {},
   "outputs": [
    {
     "data": {
      "text/plain": [
       "<AxesSubplot:xlabel='continent', ylabel='count'>"
      ]
     },
     "execution_count": 24,
     "metadata": {},
     "output_type": "execute_result"
    },
    {
     "data": {
      "image/png": "[encoded data removed]",
      "text/plain": [
       "<Figure size 432x288 with 1 Axes>"
      ]
     },
     "metadata": {
      "needs_background": "light"
     },
     "output_type": "display_data"
    }
   ],
   "source": [
    "sns.countplot(data=df,x=\"continent\",hue=\"case_status\")"
   ]
  },
  {
   "cell_type": "markdown",
   "id": "7f03b45c",
   "metadata": {},
   "source": [
    "* Asia has the highest total number of applicants, but the rejection rate is also high. European applicants had the lowest percentage of rejections of any continent, although the total number of European applicants was not the highest."
   ]
  },
  {
   "cell_type": "markdown",
   "id": "42f776ed",
   "metadata": {},
   "source": [
    "* Question3: Does work experience influence visa status?"
   ]
  },
  {
   "cell_type": "code",
   "execution_count": 25,
   "id": "5a70e19b",
   "metadata": {},
   "outputs": [
    {
     "data": {
      "text/plain": [
       "<AxesSubplot:xlabel='has_job_experience', ylabel='count'>"
      ]
     },
     "execution_count": 25,
     "metadata": {},
     "output_type": "execute_result"
    },
    {
     "data": {
      "image/png": "[encoded data removed]",
      "text/plain": [
       "<Figure size 432x288 with 1 Axes>"
      ]
     },
     "metadata": {
      "needs_background": "light"
     },
     "output_type": "display_data"
    }
   ],
   "source": [
    "sns.countplot(data=df,x=\"has_job_experience\",hue=\"case_status\")"
   ]
  },
  {
   "cell_type": "markdown",
   "id": "6cc593d6",
   "metadata": {},
   "source": [
    "* The total number of applicants with work experience is significantly higher than the number of applicants without work experience, while the proportion of applicants with work experience getting visas is higher."
   ]
  },
  {
   "cell_type": "markdown",
   "id": "b534d826",
   "metadata": {},
   "source": [
    "* Question4: Which pay unit is most likely to be certified for a visa?"
   ]
  },
  {
   "cell_type": "code",
   "execution_count": 26,
   "id": "a9621580",
   "metadata": {},
   "outputs": [
    {
     "data": {
      "text/plain": [
       "<AxesSubplot:xlabel='unit_of_wage', ylabel='count'>"
      ]
     },
     "execution_count": 26,
     "metadata": {},
     "output_type": "execute_result"
    },
    {
     "data": {
      "image/png": "[encoded data removed]",
      "text/plain": [
       "<Figure size 432x288 with 1 Axes>"
      ]
     },
     "metadata": {
      "needs_background": "light"
     },
     "output_type": "display_data"
    }
   ],
   "source": [
    "sns.countplot(data=df,x=\"unit_of_wage\",hue=\"case_status\")"
   ]
  },
  {
   "cell_type": "markdown",
   "id": "e5d263b5",
   "metadata": {},
   "source": [
    "* Year pay unit is most likely to be certified."
   ]
  },
  {
   "cell_type": "markdown",
   "id": "5275f9ba",
   "metadata": {},
   "source": [
    "* Question5: How does the visa status change with the prevailing wage?"
   ]
  },
  {
   "cell_type": "code",
   "execution_count": 27,
   "id": "76edcf94",
   "metadata": {},
   "outputs": [
    {
     "data": {
      "text/plain": [
       "<AxesSubplot:xlabel='prevailing_wage', ylabel='Count'>"
      ]
     },
     "execution_count": 27,
     "metadata": {},
     "output_type": "execute_result"
    },
    {
     "data": {
      "image/png": "[encoded data removed]",
      "text/plain": [
       "<Figure size 432x288 with 1 Axes>"
      ]
     },
     "metadata": {
      "needs_background": "light"
     },
     "output_type": "display_data"
    }
   ],
   "source": [
    "sns.histplot(df,x=\"prevailing_wage\",hue=\"case_status\")"
   ]
  },
  {
   "cell_type": "markdown",
   "id": "be9eb23b",
   "metadata": {},
   "source": [
    "* The prevailing_wage does not play a significant role in obtaining a visa, the rate of obtaining a visa is almost the same regardless of the prevailing_wage."
   ]
  },
  {
   "cell_type": "markdown",
   "id": "e5d844a5",
   "metadata": {},
   "source": [
    "### Now let's do EDA for other variables"
   ]
  },
  {
   "cell_type": "markdown",
   "id": "9ab6f331",
   "metadata": {},
   "source": [
    "* Correlation check"
   ]
  },
  {
   "cell_type": "code",
   "execution_count": 28,
   "id": "08d9fe63",
   "metadata": {},
   "outputs": [
    {
     "data": {
      "image/png": "[encoded data removed]",
      "text/plain": [
       "<Figure size 1152x720 with 1 Axes>"
      ]
     },
     "metadata": {},
     "output_type": "display_data"
    }
   ],
   "source": [
    "sns.set(rc={'figure.figsize':(16,10)})\n",
    "sns.heatmap(df.corr(),\n",
    "            annot=True,\n",
    "            linewidths=.5,\n",
    "            center=0,\n",
    "            cbar=False,\n",
    "            cmap=\"Spectral\")\n",
    "plt.show()"
   ]
  },
  {
   "cell_type": "markdown",
   "id": "b312cc55",
   "metadata": {},
   "source": [
    "* There is no obvious correlation between the variables"
   ]
  },
  {
   "cell_type": "code",
   "execution_count": 29,
   "id": "309fb344",
   "metadata": {},
   "outputs": [
    {
     "data": {
      "text/html": [
       "<div>\n",
       "<style scoped>\n",
       "    .dataframe tbody tr th:only-of-type {\n",
       "        vertical-align: middle;\n",
       "    }\n",
       "\n",
       "    .dataframe tbody tr th {\n",
       "        vertical-align: top;\n",
       "    }\n",
       "\n",
       "    .dataframe thead th {\n",
       "        text-align: right;\n",
       "    }\n",
       "</style>\n",
       "<table border=\"1\" class=\"dataframe\">\n",
       "  <thead>\n",
       "    <tr style=\"text-align: right;\">\n",
       "      <th></th>\n",
       "      <th>continent</th>\n",
       "      <th>education_of_employee</th>\n",
       "      <th>has_job_experience</th>\n",
       "      <th>requires_job_training</th>\n",
       "      <th>no_of_employees</th>\n",
       "      <th>yr_of_estab</th>\n",
       "      <th>region_of_employment</th>\n",
       "      <th>prevailing_wage</th>\n",
       "      <th>unit_of_wage</th>\n",
       "      <th>full_time_position</th>\n",
       "      <th>case_status</th>\n",
       "    </tr>\n",
       "  </thead>\n",
       "  <tbody>\n",
       "    <tr>\n",
       "      <th>0</th>\n",
       "      <td>Asia</td>\n",
       "      <td>High School</td>\n",
       "      <td>N</td>\n",
       "      <td>N</td>\n",
       "      <td>14513</td>\n",
       "      <td>2007</td>\n",
       "      <td>West</td>\n",
       "      <td>592.2029</td>\n",
       "      <td>Hour</td>\n",
       "      <td>Y</td>\n",
       "      <td>Denied</td>\n",
       "    </tr>\n",
       "    <tr>\n",
       "      <th>1</th>\n",
       "      <td>Asia</td>\n",
       "      <td>Master's</td>\n",
       "      <td>Y</td>\n",
       "      <td>N</td>\n",
       "      <td>2412</td>\n",
       "      <td>2002</td>\n",
       "      <td>Northeast</td>\n",
       "      <td>83425.6500</td>\n",
       "      <td>Year</td>\n",
       "      <td>Y</td>\n",
       "      <td>Certified</td>\n",
       "    </tr>\n",
       "    <tr>\n",
       "      <th>2</th>\n",
       "      <td>Asia</td>\n",
       "      <td>Bachelor's</td>\n",
       "      <td>N</td>\n",
       "      <td>Y</td>\n",
       "      <td>44444</td>\n",
       "      <td>2008</td>\n",
       "      <td>West</td>\n",
       "      <td>122996.8600</td>\n",
       "      <td>Year</td>\n",
       "      <td>Y</td>\n",
       "      <td>Denied</td>\n",
       "    </tr>\n",
       "    <tr>\n",
       "      <th>3</th>\n",
       "      <td>Asia</td>\n",
       "      <td>Bachelor's</td>\n",
       "      <td>N</td>\n",
       "      <td>N</td>\n",
       "      <td>98</td>\n",
       "      <td>1897</td>\n",
       "      <td>West</td>\n",
       "      <td>83434.0300</td>\n",
       "      <td>Year</td>\n",
       "      <td>Y</td>\n",
       "      <td>Denied</td>\n",
       "    </tr>\n",
       "    <tr>\n",
       "      <th>4</th>\n",
       "      <td>Africa</td>\n",
       "      <td>Master's</td>\n",
       "      <td>Y</td>\n",
       "      <td>N</td>\n",
       "      <td>1082</td>\n",
       "      <td>2005</td>\n",
       "      <td>South</td>\n",
       "      <td>149907.3900</td>\n",
       "      <td>Year</td>\n",
       "      <td>Y</td>\n",
       "      <td>Certified</td>\n",
       "    </tr>\n",
       "  </tbody>\n",
       "</table>\n",
       "</div>"
      ],
      "text/plain": [
       "  continent education_of_employee has_job_experience requires_job_training  \\\n",
       "0      Asia           High School                  N                     N   \n",
       "1      Asia              Master's                  Y                     N   \n",
       "2      Asia            Bachelor's                  N                     Y   \n",
       "3      Asia            Bachelor's                  N                     N   \n",
       "4    Africa              Master's                  Y                     N   \n",
       "\n",
       "   no_of_employees  yr_of_estab region_of_employment  prevailing_wage  \\\n",
       "0            14513         2007                 West         592.2029   \n",
       "1             2412         2002            Northeast       83425.6500   \n",
       "2            44444         2008                 West      122996.8600   \n",
       "3               98         1897                 West       83434.0300   \n",
       "4             1082         2005                South      149907.3900   \n",
       "\n",
       "  unit_of_wage full_time_position case_status  \n",
       "0         Hour                  Y      Denied  \n",
       "1         Year                  Y   Certified  \n",
       "2         Year                  Y      Denied  \n",
       "3         Year                  Y      Denied  \n",
       "4         Year                  Y   Certified  "
      ]
     },
     "execution_count": 29,
     "metadata": {},
     "output_type": "execute_result"
    }
   ],
   "source": [
    "df.head()"
   ]
  },
  {
   "cell_type": "code",
   "execution_count": 30,
   "id": "d13aed97",
   "metadata": {},
   "outputs": [
    {
     "data": {
      "text/plain": [
       "<AxesSubplot:xlabel='no_of_employees', ylabel='Count'>"
      ]
     },
     "execution_count": 30,
     "metadata": {},
     "output_type": "execute_result"
    },
    {
     "data": {
      "image/png": "[encoded data removed]",
      "text/plain": [
       "<Figure size 1152x720 with 1 Axes>"
      ]
     },
     "metadata": {},
     "output_type": "display_data"
    }
   ],
   "source": [
    "sns.histplot(data=df, x=\"no_of_employees\")"
   ]
  },
  {
   "cell_type": "markdown",
   "id": "6b875fb5",
   "metadata": {},
   "source": [
    "* Most companies have employees number less than 10,000."
   ]
  },
  {
   "cell_type": "code",
   "execution_count": 31,
   "id": "07d511c2",
   "metadata": {},
   "outputs": [
    {
     "data": {
      "text/plain": [
       "<AxesSubplot:xlabel='prevailing_wage', ylabel='Count'>"
      ]
     },
     "execution_count": 31,
     "metadata": {},
     "output_type": "execute_result"
    },
    {
     "data": {
      "image/png": "[encoded data removed]",
      "text/plain": [
       "<Figure size 1152x720 with 1 Axes>"
      ]
     },
     "metadata": {},
     "output_type": "display_data"
    }
   ],
   "source": [
    "sns.histplot(data=df, x=\"prevailing_wage\")"
   ]
  },
  {
   "cell_type": "markdown",
   "id": "b4cc0860",
   "metadata": {},
   "source": [
    "* Most wage is between 50,000 ti 150,000."
   ]
  },
  {
   "cell_type": "code",
   "execution_count": 32,
   "id": "2e43f1c9",
   "metadata": {},
   "outputs": [
    {
     "data": {
      "text/plain": [
       "<AxesSubplot:xlabel='continent', ylabel='count'>"
      ]
     },
     "execution_count": 32,
     "metadata": {},
     "output_type": "execute_result"
    },
    {
     "data": {
      "image/png": "[encoded data removed]",
      "text/plain": [
       "<Figure size 1152x720 with 1 Axes>"
      ]
     },
     "metadata": {},
     "output_type": "display_data"
    }
   ],
   "source": [
    "sns.countplot(data=df, x=\"continent\")"
   ]
  },
  {
   "cell_type": "markdown",
   "id": "4acaa60c",
   "metadata": {},
   "source": [
    "* Most foreign employees come from Asia."
   ]
  },
  {
   "cell_type": "code",
   "execution_count": 33,
   "id": "f1cd9cad",
   "metadata": {},
   "outputs": [
    {
     "data": {
      "text/plain": [
       "<AxesSubplot:xlabel='education_of_employee', ylabel='count'>"
      ]
     },
     "execution_count": 33,
     "metadata": {},
     "output_type": "execute_result"
    },
    {
     "data": {
      "image/png": "[encoded data removed]",
      "text/plain": [
       "<Figure size 1152x720 with 1 Axes>"
      ]
     },
     "metadata": {},
     "output_type": "display_data"
    }
   ],
   "source": [
    "sns.countplot(data=df, x=\"education_of_employee\")"
   ]
  },
  {
   "cell_type": "markdown",
   "id": "085cee5d",
   "metadata": {},
   "source": [
    "* Most employee acquired Bachelor's, and second most people get Master's."
   ]
  },
  {
   "cell_type": "code",
   "execution_count": 34,
   "id": "f12bd75c",
   "metadata": {},
   "outputs": [
    {
     "data": {
      "text/html": [
       "<div>\n",
       "<style scoped>\n",
       "    .dataframe tbody tr th:only-of-type {\n",
       "        vertical-align: middle;\n",
       "    }\n",
       "\n",
       "    .dataframe tbody tr th {\n",
       "        vertical-align: top;\n",
       "    }\n",
       "\n",
       "    .dataframe thead th {\n",
       "        text-align: right;\n",
       "    }\n",
       "</style>\n",
       "<table border=\"1\" class=\"dataframe\">\n",
       "  <thead>\n",
       "    <tr style=\"text-align: right;\">\n",
       "      <th></th>\n",
       "      <th>continent</th>\n",
       "      <th>education_of_employee</th>\n",
       "      <th>has_job_experience</th>\n",
       "      <th>requires_job_training</th>\n",
       "      <th>no_of_employees</th>\n",
       "      <th>yr_of_estab</th>\n",
       "      <th>region_of_employment</th>\n",
       "      <th>prevailing_wage</th>\n",
       "      <th>unit_of_wage</th>\n",
       "      <th>full_time_position</th>\n",
       "      <th>case_status</th>\n",
       "    </tr>\n",
       "  </thead>\n",
       "  <tbody>\n",
       "    <tr>\n",
       "      <th>0</th>\n",
       "      <td>Asia</td>\n",
       "      <td>High School</td>\n",
       "      <td>N</td>\n",
       "      <td>N</td>\n",
       "      <td>14513</td>\n",
       "      <td>2007</td>\n",
       "      <td>West</td>\n",
       "      <td>592.2029</td>\n",
       "      <td>Hour</td>\n",
       "      <td>Y</td>\n",
       "      <td>Denied</td>\n",
       "    </tr>\n",
       "    <tr>\n",
       "      <th>1</th>\n",
       "      <td>Asia</td>\n",
       "      <td>Master's</td>\n",
       "      <td>Y</td>\n",
       "      <td>N</td>\n",
       "      <td>2412</td>\n",
       "      <td>2002</td>\n",
       "      <td>Northeast</td>\n",
       "      <td>83425.6500</td>\n",
       "      <td>Year</td>\n",
       "      <td>Y</td>\n",
       "      <td>Certified</td>\n",
       "    </tr>\n",
       "    <tr>\n",
       "      <th>2</th>\n",
       "      <td>Asia</td>\n",
       "      <td>Bachelor's</td>\n",
       "      <td>N</td>\n",
       "      <td>Y</td>\n",
       "      <td>44444</td>\n",
       "      <td>2008</td>\n",
       "      <td>West</td>\n",
       "      <td>122996.8600</td>\n",
       "      <td>Year</td>\n",
       "      <td>Y</td>\n",
       "      <td>Denied</td>\n",
       "    </tr>\n",
       "    <tr>\n",
       "      <th>3</th>\n",
       "      <td>Asia</td>\n",
       "      <td>Bachelor's</td>\n",
       "      <td>N</td>\n",
       "      <td>N</td>\n",
       "      <td>98</td>\n",
       "      <td>1897</td>\n",
       "      <td>West</td>\n",
       "      <td>83434.0300</td>\n",
       "      <td>Year</td>\n",
       "      <td>Y</td>\n",
       "      <td>Denied</td>\n",
       "    </tr>\n",
       "    <tr>\n",
       "      <th>4</th>\n",
       "      <td>Africa</td>\n",
       "      <td>Master's</td>\n",
       "      <td>Y</td>\n",
       "      <td>N</td>\n",
       "      <td>1082</td>\n",
       "      <td>2005</td>\n",
       "      <td>South</td>\n",
       "      <td>149907.3900</td>\n",
       "      <td>Year</td>\n",
       "      <td>Y</td>\n",
       "      <td>Certified</td>\n",
       "    </tr>\n",
       "  </tbody>\n",
       "</table>\n",
       "</div>"
      ],
      "text/plain": [
       "  continent education_of_employee has_job_experience requires_job_training  \\\n",
       "0      Asia           High School                  N                     N   \n",
       "1      Asia              Master's                  Y                     N   \n",
       "2      Asia            Bachelor's                  N                     Y   \n",
       "3      Asia            Bachelor's                  N                     N   \n",
       "4    Africa              Master's                  Y                     N   \n",
       "\n",
       "   no_of_employees  yr_of_estab region_of_employment  prevailing_wage  \\\n",
       "0            14513         2007                 West         592.2029   \n",
       "1             2412         2002            Northeast       83425.6500   \n",
       "2            44444         2008                 West      122996.8600   \n",
       "3               98         1897                 West       83434.0300   \n",
       "4             1082         2005                South      149907.3900   \n",
       "\n",
       "  unit_of_wage full_time_position case_status  \n",
       "0         Hour                  Y      Denied  \n",
       "1         Year                  Y   Certified  \n",
       "2         Year                  Y      Denied  \n",
       "3         Year                  Y      Denied  \n",
       "4         Year                  Y   Certified  "
      ]
     },
     "execution_count": 34,
     "metadata": {},
     "output_type": "execute_result"
    }
   ],
   "source": [
    "df.head()"
   ]
  },
  {
   "cell_type": "code",
   "execution_count": 35,
   "id": "43bf0fca",
   "metadata": {},
   "outputs": [
    {
     "data": {
      "text/plain": [
       "<AxesSubplot:xlabel='region_of_employment', ylabel='count'>"
      ]
     },
     "execution_count": 35,
     "metadata": {},
     "output_type": "execute_result"
    },
    {
     "data": {
      "image/png": "[encoded data removed]",
      "text/plain": [
       "<Figure size 1152x720 with 1 Axes>"
      ]
     },
     "metadata": {},
     "output_type": "display_data"
    }
   ],
   "source": [
    "sns.countplot(data=df, x=\"region_of_employment\")"
   ]
  },
  {
   "cell_type": "markdown",
   "id": "031f5545",
   "metadata": {},
   "source": [
    "* West, Northeast and South of the USA need more employees who come from the world."
   ]
  },
  {
   "cell_type": "markdown",
   "id": "alleged-spirituality",
   "metadata": {
    "id": "alleged-spirituality"
   },
   "source": [
    "## Data Preprocessing\n",
    "\n",
    "- Missing value treatment (if needed)\n",
    "- Feature engineering \n",
    "- Outlier detection and treatment (if needed)\n",
    "- Preparing data for modeling \n",
    "- Any other preprocessing steps (if needed)"
   ]
  },
  {
   "cell_type": "markdown",
   "id": "4b921da8",
   "metadata": {
    "id": "increasing-louisiana"
   },
   "source": [
    "#### Check Missing value"
   ]
  },
  {
   "cell_type": "code",
   "execution_count": 36,
   "id": "8d83d504",
   "metadata": {},
   "outputs": [
    {
     "data": {
      "text/plain": [
       "continent                0\n",
       "education_of_employee    0\n",
       "has_job_experience       0\n",
       "requires_job_training    0\n",
       "no_of_employees          0\n",
       "yr_of_estab              0\n",
       "region_of_employment     0\n",
       "prevailing_wage          0\n",
       "unit_of_wage             0\n",
       "full_time_position       0\n",
       "case_status              0\n",
       "dtype: int64"
      ]
     },
     "execution_count": 36,
     "metadata": {},
     "output_type": "execute_result"
    }
   ],
   "source": [
    "df.isnull().sum()"
   ]
  },
  {
   "cell_type": "markdown",
   "id": "71ff7bde",
   "metadata": {},
   "source": [
    "#### Feature Engineering"
   ]
  },
  {
   "cell_type": "code",
   "execution_count": 37,
   "id": "450a7064",
   "metadata": {},
   "outputs": [
    {
     "data": {
      "text/html": [
       "<div>\n",
       "<style scoped>\n",
       "    .dataframe tbody tr th:only-of-type {\n",
       "        vertical-align: middle;\n",
       "    }\n",
       "\n",
       "    .dataframe tbody tr th {\n",
       "        vertical-align: top;\n",
       "    }\n",
       "\n",
       "    .dataframe thead th {\n",
       "        text-align: right;\n",
       "    }\n",
       "</style>\n",
       "<table border=\"1\" class=\"dataframe\">\n",
       "  <thead>\n",
       "    <tr style=\"text-align: right;\">\n",
       "      <th></th>\n",
       "      <th>continent</th>\n",
       "      <th>education_of_employee</th>\n",
       "      <th>has_job_experience</th>\n",
       "      <th>requires_job_training</th>\n",
       "      <th>no_of_employees</th>\n",
       "      <th>yr_of_estab</th>\n",
       "      <th>region_of_employment</th>\n",
       "      <th>prevailing_wage</th>\n",
       "      <th>unit_of_wage</th>\n",
       "      <th>full_time_position</th>\n",
       "      <th>case_status</th>\n",
       "    </tr>\n",
       "  </thead>\n",
       "  <tbody>\n",
       "    <tr>\n",
       "      <th>0</th>\n",
       "      <td>Asia</td>\n",
       "      <td>High School</td>\n",
       "      <td>N</td>\n",
       "      <td>N</td>\n",
       "      <td>14513</td>\n",
       "      <td>2007</td>\n",
       "      <td>West</td>\n",
       "      <td>592.2029</td>\n",
       "      <td>Hour</td>\n",
       "      <td>Y</td>\n",
       "      <td>Denied</td>\n",
       "    </tr>\n",
       "    <tr>\n",
       "      <th>1</th>\n",
       "      <td>Asia</td>\n",
       "      <td>Master's</td>\n",
       "      <td>Y</td>\n",
       "      <td>N</td>\n",
       "      <td>2412</td>\n",
       "      <td>2002</td>\n",
       "      <td>Northeast</td>\n",
       "      <td>83425.6500</td>\n",
       "      <td>Year</td>\n",
       "      <td>Y</td>\n",
       "      <td>Certified</td>\n",
       "    </tr>\n",
       "    <tr>\n",
       "      <th>2</th>\n",
       "      <td>Asia</td>\n",
       "      <td>Bachelor's</td>\n",
       "      <td>N</td>\n",
       "      <td>Y</td>\n",
       "      <td>44444</td>\n",
       "      <td>2008</td>\n",
       "      <td>West</td>\n",
       "      <td>122996.8600</td>\n",
       "      <td>Year</td>\n",
       "      <td>Y</td>\n",
       "      <td>Denied</td>\n",
       "    </tr>\n",
       "    <tr>\n",
       "      <th>3</th>\n",
       "      <td>Asia</td>\n",
       "      <td>Bachelor's</td>\n",
       "      <td>N</td>\n",
       "      <td>N</td>\n",
       "      <td>98</td>\n",
       "      <td>1897</td>\n",
       "      <td>West</td>\n",
       "      <td>83434.0300</td>\n",
       "      <td>Year</td>\n",
       "      <td>Y</td>\n",
       "      <td>Denied</td>\n",
       "    </tr>\n",
       "    <tr>\n",
       "      <th>4</th>\n",
       "      <td>Africa</td>\n",
       "      <td>Master's</td>\n",
       "      <td>Y</td>\n",
       "      <td>N</td>\n",
       "      <td>1082</td>\n",
       "      <td>2005</td>\n",
       "      <td>South</td>\n",
       "      <td>149907.3900</td>\n",
       "      <td>Year</td>\n",
       "      <td>Y</td>\n",
       "      <td>Certified</td>\n",
       "    </tr>\n",
       "  </tbody>\n",
       "</table>\n",
       "</div>"
      ],
      "text/plain": [
       "  continent education_of_employee has_job_experience requires_job_training  \\\n",
       "0      Asia           High School                  N                     N   \n",
       "1      Asia              Master's                  Y                     N   \n",
       "2      Asia            Bachelor's                  N                     Y   \n",
       "3      Asia            Bachelor's                  N                     N   \n",
       "4    Africa              Master's                  Y                     N   \n",
       "\n",
       "   no_of_employees  yr_of_estab region_of_employment  prevailing_wage  \\\n",
       "0            14513         2007                 West         592.2029   \n",
       "1             2412         2002            Northeast       83425.6500   \n",
       "2            44444         2008                 West      122996.8600   \n",
       "3               98         1897                 West       83434.0300   \n",
       "4             1082         2005                South      149907.3900   \n",
       "\n",
       "  unit_of_wage full_time_position case_status  \n",
       "0         Hour                  Y      Denied  \n",
       "1         Year                  Y   Certified  \n",
       "2         Year                  Y      Denied  \n",
       "3         Year                  Y      Denied  \n",
       "4         Year                  Y   Certified  "
      ]
     },
     "execution_count": 37,
     "metadata": {},
     "output_type": "execute_result"
    }
   ],
   "source": [
    "df.head()"
   ]
  },
  {
   "cell_type": "markdown",
   "id": "efbe5326",
   "metadata": {},
   "source": [
    "* Using number to replace the values in certain columns.\n",
    "* For example, in \"education_of_employee\", we can use different number to represent the High School, Master's etc., using 1 to represent \"Y\" and 0 to represent \"N\" in the columns \"has_job_experience\", \"requires_job_training\", \"full_time_position\" and \"case_status\"(0:Denied, 1:Certified).\n",
    "* And for the columns \"continent\", \"region_of_employment\", \"unit_of_wage\", I will create dummy variables for them.\n",
    "* Firstly, let's check how many unique values in the column \"education_of_employee\"."
   ]
  },
  {
   "cell_type": "code",
   "execution_count": 38,
   "id": "2a11a1d2",
   "metadata": {},
   "outputs": [
    {
     "data": {
      "text/plain": [
       "array(['High School', \"Master's\", \"Bachelor's\", 'Doctorate'], dtype=object)"
      ]
     },
     "execution_count": 38,
     "metadata": {},
     "output_type": "execute_result"
    }
   ],
   "source": [
    "df[\"education_of_employee\"].unique()"
   ]
  },
  {
   "cell_type": "markdown",
   "id": "b3b31aaf",
   "metadata": {},
   "source": [
    "* There are four different unique values in the column \"education_of_employee\", and I will use 1, 2, 3, 4 to represetn the High school, Bachelor's, Master's and Doctorate respectively."
   ]
  },
  {
   "cell_type": "code",
   "execution_count": 39,
   "id": "28b32296",
   "metadata": {},
   "outputs": [],
   "source": [
    "replaceStruct = {\n",
    "                \"education_of_employee\":{\"High School\":1, \"Bachelor's\":2 ,\"Master's\":3 ,\"Doctorate\":4},\n",
    "                \"has_job_experience\":{\"N\": 0, \"Y\": 1 } ,\n",
    "                \"requires_job_training\": {\"N\": 0, \"Y\": 1 },\n",
    "                \"full_time_position\":{\"N\": 0, \"Y\": 1 },\n",
    "                \"case_status\":{\"Denied\": 0, \"Certified\": 1 },\n",
    "                    }\n",
    "Dummyvar=[\"continent\",\"region_of_employment\",\"unit_of_wage\"]"
   ]
  },
  {
   "cell_type": "code",
   "execution_count": 40,
   "id": "4f4b8a75",
   "metadata": {},
   "outputs": [
    {
     "data": {
      "text/html": [
       "<div>\n",
       "<style scoped>\n",
       "    .dataframe tbody tr th:only-of-type {\n",
       "        vertical-align: middle;\n",
       "    }\n",
       "\n",
       "    .dataframe tbody tr th {\n",
       "        vertical-align: top;\n",
       "    }\n",
       "\n",
       "    .dataframe thead th {\n",
       "        text-align: right;\n",
       "    }\n",
       "</style>\n",
       "<table border=\"1\" class=\"dataframe\">\n",
       "  <thead>\n",
       "    <tr style=\"text-align: right;\">\n",
       "      <th></th>\n",
       "      <th>education_of_employee</th>\n",
       "      <th>has_job_experience</th>\n",
       "      <th>requires_job_training</th>\n",
       "      <th>no_of_employees</th>\n",
       "      <th>yr_of_estab</th>\n",
       "      <th>prevailing_wage</th>\n",
       "      <th>full_time_position</th>\n",
       "      <th>case_status</th>\n",
       "      <th>continent_Africa</th>\n",
       "      <th>continent_Asia</th>\n",
       "      <th>...</th>\n",
       "      <th>continent_South America</th>\n",
       "      <th>region_of_employment_Island</th>\n",
       "      <th>region_of_employment_Midwest</th>\n",
       "      <th>region_of_employment_Northeast</th>\n",
       "      <th>region_of_employment_South</th>\n",
       "      <th>region_of_employment_West</th>\n",
       "      <th>unit_of_wage_Hour</th>\n",
       "      <th>unit_of_wage_Month</th>\n",
       "      <th>unit_of_wage_Week</th>\n",
       "      <th>unit_of_wage_Year</th>\n",
       "    </tr>\n",
       "  </thead>\n",
       "  <tbody>\n",
       "    <tr>\n",
       "      <th>0</th>\n",
       "      <td>1</td>\n",
       "      <td>0</td>\n",
       "      <td>0</td>\n",
       "      <td>14513</td>\n",
       "      <td>2007</td>\n",
       "      <td>592.2029</td>\n",
       "      <td>1</td>\n",
       "      <td>0</td>\n",
       "      <td>0</td>\n",
       "      <td>1</td>\n",
       "      <td>...</td>\n",
       "      <td>0</td>\n",
       "      <td>0</td>\n",
       "      <td>0</td>\n",
       "      <td>0</td>\n",
       "      <td>0</td>\n",
       "      <td>1</td>\n",
       "      <td>1</td>\n",
       "      <td>0</td>\n",
       "      <td>0</td>\n",
       "      <td>0</td>\n",
       "    </tr>\n",
       "    <tr>\n",
       "      <th>1</th>\n",
       "      <td>3</td>\n",
       "      <td>1</td>\n",
       "      <td>0</td>\n",
       "      <td>2412</td>\n",
       "      <td>2002</td>\n",
       "      <td>83425.6500</td>\n",
       "      <td>1</td>\n",
       "      <td>1</td>\n",
       "      <td>0</td>\n",
       "      <td>1</td>\n",
       "      <td>...</td>\n",
       "      <td>0</td>\n",
       "      <td>0</td>\n",
       "      <td>0</td>\n",
       "      <td>1</td>\n",
       "      <td>0</td>\n",
       "      <td>0</td>\n",
       "      <td>0</td>\n",
       "      <td>0</td>\n",
       "      <td>0</td>\n",
       "      <td>1</td>\n",
       "    </tr>\n",
       "    <tr>\n",
       "      <th>2</th>\n",
       "      <td>2</td>\n",
       "      <td>0</td>\n",
       "      <td>1</td>\n",
       "      <td>44444</td>\n",
       "      <td>2008</td>\n",
       "      <td>122996.8600</td>\n",
       "      <td>1</td>\n",
       "      <td>0</td>\n",
       "      <td>0</td>\n",
       "      <td>1</td>\n",
       "      <td>...</td>\n",
       "      <td>0</td>\n",
       "      <td>0</td>\n",
       "      <td>0</td>\n",
       "      <td>0</td>\n",
       "      <td>0</td>\n",
       "      <td>1</td>\n",
       "      <td>0</td>\n",
       "      <td>0</td>\n",
       "      <td>0</td>\n",
       "      <td>1</td>\n",
       "    </tr>\n",
       "    <tr>\n",
       "      <th>3</th>\n",
       "      <td>2</td>\n",
       "      <td>0</td>\n",
       "      <td>0</td>\n",
       "      <td>98</td>\n",
       "      <td>1897</td>\n",
       "      <td>83434.0300</td>\n",
       "      <td>1</td>\n",
       "      <td>0</td>\n",
       "      <td>0</td>\n",
       "      <td>1</td>\n",
       "      <td>...</td>\n",
       "      <td>0</td>\n",
       "      <td>0</td>\n",
       "      <td>0</td>\n",
       "      <td>0</td>\n",
       "      <td>0</td>\n",
       "      <td>1</td>\n",
       "      <td>0</td>\n",
       "      <td>0</td>\n",
       "      <td>0</td>\n",
       "      <td>1</td>\n",
       "    </tr>\n",
       "    <tr>\n",
       "      <th>4</th>\n",
       "      <td>3</td>\n",
       "      <td>1</td>\n",
       "      <td>0</td>\n",
       "      <td>1082</td>\n",
       "      <td>2005</td>\n",
       "      <td>149907.3900</td>\n",
       "      <td>1</td>\n",
       "      <td>1</td>\n",
       "      <td>1</td>\n",
       "      <td>0</td>\n",
       "      <td>...</td>\n",
       "      <td>0</td>\n",
       "      <td>0</td>\n",
       "      <td>0</td>\n",
       "      <td>0</td>\n",
       "      <td>1</td>\n",
       "      <td>0</td>\n",
       "      <td>0</td>\n",
       "      <td>0</td>\n",
       "      <td>0</td>\n",
       "      <td>1</td>\n",
       "    </tr>\n",
       "    <tr>\n",
       "      <th>5</th>\n",
       "      <td>3</td>\n",
       "      <td>1</td>\n",
       "      <td>0</td>\n",
       "      <td>2339</td>\n",
       "      <td>2012</td>\n",
       "      <td>78252.1400</td>\n",
       "      <td>1</td>\n",
       "      <td>1</td>\n",
       "      <td>0</td>\n",
       "      <td>1</td>\n",
       "      <td>...</td>\n",
       "      <td>0</td>\n",
       "      <td>0</td>\n",
       "      <td>0</td>\n",
       "      <td>0</td>\n",
       "      <td>1</td>\n",
       "      <td>0</td>\n",
       "      <td>0</td>\n",
       "      <td>0</td>\n",
       "      <td>0</td>\n",
       "      <td>1</td>\n",
       "    </tr>\n",
       "    <tr>\n",
       "      <th>6</th>\n",
       "      <td>2</td>\n",
       "      <td>0</td>\n",
       "      <td>0</td>\n",
       "      <td>4985</td>\n",
       "      <td>1994</td>\n",
       "      <td>53635.3900</td>\n",
       "      <td>1</td>\n",
       "      <td>1</td>\n",
       "      <td>0</td>\n",
       "      <td>1</td>\n",
       "      <td>...</td>\n",
       "      <td>0</td>\n",
       "      <td>0</td>\n",
       "      <td>0</td>\n",
       "      <td>0</td>\n",
       "      <td>1</td>\n",
       "      <td>0</td>\n",
       "      <td>0</td>\n",
       "      <td>0</td>\n",
       "      <td>0</td>\n",
       "      <td>1</td>\n",
       "    </tr>\n",
       "    <tr>\n",
       "      <th>7</th>\n",
       "      <td>2</td>\n",
       "      <td>1</td>\n",
       "      <td>0</td>\n",
       "      <td>3035</td>\n",
       "      <td>1924</td>\n",
       "      <td>418.2298</td>\n",
       "      <td>1</td>\n",
       "      <td>0</td>\n",
       "      <td>0</td>\n",
       "      <td>0</td>\n",
       "      <td>...</td>\n",
       "      <td>0</td>\n",
       "      <td>0</td>\n",
       "      <td>0</td>\n",
       "      <td>0</td>\n",
       "      <td>0</td>\n",
       "      <td>1</td>\n",
       "      <td>1</td>\n",
       "      <td>0</td>\n",
       "      <td>0</td>\n",
       "      <td>0</td>\n",
       "    </tr>\n",
       "    <tr>\n",
       "      <th>8</th>\n",
       "      <td>2</td>\n",
       "      <td>0</td>\n",
       "      <td>0</td>\n",
       "      <td>4810</td>\n",
       "      <td>2012</td>\n",
       "      <td>74362.1900</td>\n",
       "      <td>1</td>\n",
       "      <td>1</td>\n",
       "      <td>0</td>\n",
       "      <td>1</td>\n",
       "      <td>...</td>\n",
       "      <td>0</td>\n",
       "      <td>0</td>\n",
       "      <td>1</td>\n",
       "      <td>0</td>\n",
       "      <td>0</td>\n",
       "      <td>0</td>\n",
       "      <td>0</td>\n",
       "      <td>0</td>\n",
       "      <td>0</td>\n",
       "      <td>1</td>\n",
       "    </tr>\n",
       "    <tr>\n",
       "      <th>9</th>\n",
       "      <td>4</td>\n",
       "      <td>1</td>\n",
       "      <td>0</td>\n",
       "      <td>2251</td>\n",
       "      <td>1995</td>\n",
       "      <td>67514.7600</td>\n",
       "      <td>1</td>\n",
       "      <td>1</td>\n",
       "      <td>0</td>\n",
       "      <td>0</td>\n",
       "      <td>...</td>\n",
       "      <td>0</td>\n",
       "      <td>0</td>\n",
       "      <td>0</td>\n",
       "      <td>0</td>\n",
       "      <td>1</td>\n",
       "      <td>0</td>\n",
       "      <td>0</td>\n",
       "      <td>0</td>\n",
       "      <td>0</td>\n",
       "      <td>1</td>\n",
       "    </tr>\n",
       "  </tbody>\n",
       "</table>\n",
       "<p>10 rows × 23 columns</p>\n",
       "</div>"
      ],
      "text/plain": [
       "   education_of_employee  has_job_experience  requires_job_training  \\\n",
       "0                      1                   0                      0   \n",
       "1                      3                   1                      0   \n",
       "2                      2                   0                      1   \n",
       "3                      2                   0                      0   \n",
       "4                      3                   1                      0   \n",
       "5                      3                   1                      0   \n",
       "6                      2                   0                      0   \n",
       "7                      2                   1                      0   \n",
       "8                      2                   0                      0   \n",
       "9                      4                   1                      0   \n",
       "\n",
       "   no_of_employees  yr_of_estab  prevailing_wage  full_time_position  \\\n",
       "0            14513         2007         592.2029                   1   \n",
       "1             2412         2002       83425.6500                   1   \n",
       "2            44444         2008      122996.8600                   1   \n",
       "3               98         1897       83434.0300                   1   \n",
       "4             1082         2005      149907.3900                   1   \n",
       "5             2339         2012       78252.1400                   1   \n",
       "6             4985         1994       53635.3900                   1   \n",
       "7             3035         1924         418.2298                   1   \n",
       "8             4810         2012       74362.1900                   1   \n",
       "9             2251         1995       67514.7600                   1   \n",
       "\n",
       "   case_status  continent_Africa  continent_Asia  ...  \\\n",
       "0            0                 0               1  ...   \n",
       "1            1                 0               1  ...   \n",
       "2            0                 0               1  ...   \n",
       "3            0                 0               1  ...   \n",
       "4            1                 1               0  ...   \n",
       "5            1                 0               1  ...   \n",
       "6            1                 0               1  ...   \n",
       "7            0                 0               0  ...   \n",
       "8            1                 0               1  ...   \n",
       "9            1                 0               0  ...   \n",
       "\n",
       "   continent_South America  region_of_employment_Island  \\\n",
       "0                        0                            0   \n",
       "1                        0                            0   \n",
       "2                        0                            0   \n",
       "3                        0                            0   \n",
       "4                        0                            0   \n",
       "5                        0                            0   \n",
       "6                        0                            0   \n",
       "7                        0                            0   \n",
       "8                        0                            0   \n",
       "9                        0                            0   \n",
       "\n",
       "   region_of_employment_Midwest  region_of_employment_Northeast  \\\n",
       "0                             0                               0   \n",
       "1                             0                               1   \n",
       "2                             0                               0   \n",
       "3                             0                               0   \n",
       "4                             0                               0   \n",
       "5                             0                               0   \n",
       "6                             0                               0   \n",
       "7                             0                               0   \n",
       "8                             1                               0   \n",
       "9                             0                               0   \n",
       "\n",
       "   region_of_employment_South  region_of_employment_West  unit_of_wage_Hour  \\\n",
       "0                           0                          1                  1   \n",
       "1                           0                          0                  0   \n",
       "2                           0                          1                  0   \n",
       "3                           0                          1                  0   \n",
       "4                           1                          0                  0   \n",
       "5                           1                          0                  0   \n",
       "6                           1                          0                  0   \n",
       "7                           0                          1                  1   \n",
       "8                           0                          0                  0   \n",
       "9                           1                          0                  0   \n",
       "\n",
       "   unit_of_wage_Month  unit_of_wage_Week  unit_of_wage_Year  \n",
       "0                   0                  0                  0  \n",
       "1                   0                  0                  1  \n",
       "2                   0                  0                  1  \n",
       "3                   0                  0                  1  \n",
       "4                   0                  0                  1  \n",
       "5                   0                  0                  1  \n",
       "6                   0                  0                  1  \n",
       "7                   0                  0                  0  \n",
       "8                   0                  0                  1  \n",
       "9                   0                  0                  1  \n",
       "\n",
       "[10 rows x 23 columns]"
      ]
     },
     "execution_count": 40,
     "metadata": {},
     "output_type": "execute_result"
    }
   ],
   "source": [
    "df=df.replace(replaceStruct)\n",
    "df=pd.get_dummies(df, columns=Dummyvar)\n",
    "df.head(10)\n"
   ]
  },
  {
   "cell_type": "markdown",
   "id": "fce8fa12",
   "metadata": {},
   "source": [
    "* I want to use “age_of_company” to replace the \"yr_of_estab\", that is: the length of the company's establishment to 2022.\n",
    "* And then, drop the column \"yr_of_estab\"."
   ]
  },
  {
   "cell_type": "code",
   "execution_count": 41,
   "id": "3738f6f9",
   "metadata": {},
   "outputs": [],
   "source": [
    "df[\"age_of_company\"]=2022-df[\"yr_of_estab\"]\n",
    "df.drop([\"yr_of_estab\"], axis=1, inplace=True)"
   ]
  },
  {
   "cell_type": "markdown",
   "id": "4755124d",
   "metadata": {},
   "source": [
    "* Checking Dataset again."
   ]
  },
  {
   "cell_type": "code",
   "execution_count": 42,
   "id": "3fe73565",
   "metadata": {},
   "outputs": [
    {
     "data": {
      "text/html": [
       "<div>\n",
       "<style scoped>\n",
       "    .dataframe tbody tr th:only-of-type {\n",
       "        vertical-align: middle;\n",
       "    }\n",
       "\n",
       "    .dataframe tbody tr th {\n",
       "        vertical-align: top;\n",
       "    }\n",
       "\n",
       "    .dataframe thead th {\n",
       "        text-align: right;\n",
       "    }\n",
       "</style>\n",
       "<table border=\"1\" class=\"dataframe\">\n",
       "  <thead>\n",
       "    <tr style=\"text-align: right;\">\n",
       "      <th></th>\n",
       "      <th>education_of_employee</th>\n",
       "      <th>has_job_experience</th>\n",
       "      <th>requires_job_training</th>\n",
       "      <th>no_of_employees</th>\n",
       "      <th>prevailing_wage</th>\n",
       "      <th>full_time_position</th>\n",
       "      <th>case_status</th>\n",
       "      <th>continent_Africa</th>\n",
       "      <th>continent_Asia</th>\n",
       "      <th>continent_Europe</th>\n",
       "      <th>...</th>\n",
       "      <th>region_of_employment_Island</th>\n",
       "      <th>region_of_employment_Midwest</th>\n",
       "      <th>region_of_employment_Northeast</th>\n",
       "      <th>region_of_employment_South</th>\n",
       "      <th>region_of_employment_West</th>\n",
       "      <th>unit_of_wage_Hour</th>\n",
       "      <th>unit_of_wage_Month</th>\n",
       "      <th>unit_of_wage_Week</th>\n",
       "      <th>unit_of_wage_Year</th>\n",
       "      <th>age_of_company</th>\n",
       "    </tr>\n",
       "  </thead>\n",
       "  <tbody>\n",
       "    <tr>\n",
       "      <th>0</th>\n",
       "      <td>1</td>\n",
       "      <td>0</td>\n",
       "      <td>0</td>\n",
       "      <td>14513</td>\n",
       "      <td>592.2029</td>\n",
       "      <td>1</td>\n",
       "      <td>0</td>\n",
       "      <td>0</td>\n",
       "      <td>1</td>\n",
       "      <td>0</td>\n",
       "      <td>...</td>\n",
       "      <td>0</td>\n",
       "      <td>0</td>\n",
       "      <td>0</td>\n",
       "      <td>0</td>\n",
       "      <td>1</td>\n",
       "      <td>1</td>\n",
       "      <td>0</td>\n",
       "      <td>0</td>\n",
       "      <td>0</td>\n",
       "      <td>15</td>\n",
       "    </tr>\n",
       "    <tr>\n",
       "      <th>1</th>\n",
       "      <td>3</td>\n",
       "      <td>1</td>\n",
       "      <td>0</td>\n",
       "      <td>2412</td>\n",
       "      <td>83425.6500</td>\n",
       "      <td>1</td>\n",
       "      <td>1</td>\n",
       "      <td>0</td>\n",
       "      <td>1</td>\n",
       "      <td>0</td>\n",
       "      <td>...</td>\n",
       "      <td>0</td>\n",
       "      <td>0</td>\n",
       "      <td>1</td>\n",
       "      <td>0</td>\n",
       "      <td>0</td>\n",
       "      <td>0</td>\n",
       "      <td>0</td>\n",
       "      <td>0</td>\n",
       "      <td>1</td>\n",
       "      <td>20</td>\n",
       "    </tr>\n",
       "    <tr>\n",
       "      <th>2</th>\n",
       "      <td>2</td>\n",
       "      <td>0</td>\n",
       "      <td>1</td>\n",
       "      <td>44444</td>\n",
       "      <td>122996.8600</td>\n",
       "      <td>1</td>\n",
       "      <td>0</td>\n",
       "      <td>0</td>\n",
       "      <td>1</td>\n",
       "      <td>0</td>\n",
       "      <td>...</td>\n",
       "      <td>0</td>\n",
       "      <td>0</td>\n",
       "      <td>0</td>\n",
       "      <td>0</td>\n",
       "      <td>1</td>\n",
       "      <td>0</td>\n",
       "      <td>0</td>\n",
       "      <td>0</td>\n",
       "      <td>1</td>\n",
       "      <td>14</td>\n",
       "    </tr>\n",
       "    <tr>\n",
       "      <th>3</th>\n",
       "      <td>2</td>\n",
       "      <td>0</td>\n",
       "      <td>0</td>\n",
       "      <td>98</td>\n",
       "      <td>83434.0300</td>\n",
       "      <td>1</td>\n",
       "      <td>0</td>\n",
       "      <td>0</td>\n",
       "      <td>1</td>\n",
       "      <td>0</td>\n",
       "      <td>...</td>\n",
       "      <td>0</td>\n",
       "      <td>0</td>\n",
       "      <td>0</td>\n",
       "      <td>0</td>\n",
       "      <td>1</td>\n",
       "      <td>0</td>\n",
       "      <td>0</td>\n",
       "      <td>0</td>\n",
       "      <td>1</td>\n",
       "      <td>125</td>\n",
       "    </tr>\n",
       "    <tr>\n",
       "      <th>4</th>\n",
       "      <td>3</td>\n",
       "      <td>1</td>\n",
       "      <td>0</td>\n",
       "      <td>1082</td>\n",
       "      <td>149907.3900</td>\n",
       "      <td>1</td>\n",
       "      <td>1</td>\n",
       "      <td>1</td>\n",
       "      <td>0</td>\n",
       "      <td>0</td>\n",
       "      <td>...</td>\n",
       "      <td>0</td>\n",
       "      <td>0</td>\n",
       "      <td>0</td>\n",
       "      <td>1</td>\n",
       "      <td>0</td>\n",
       "      <td>0</td>\n",
       "      <td>0</td>\n",
       "      <td>0</td>\n",
       "      <td>1</td>\n",
       "      <td>17</td>\n",
       "    </tr>\n",
       "  </tbody>\n",
       "</table>\n",
       "<p>5 rows × 23 columns</p>\n",
       "</div>"
      ],
      "text/plain": [
       "   education_of_employee  has_job_experience  requires_job_training  \\\n",
       "0                      1                   0                      0   \n",
       "1                      3                   1                      0   \n",
       "2                      2                   0                      1   \n",
       "3                      2                   0                      0   \n",
       "4                      3                   1                      0   \n",
       "\n",
       "   no_of_employees  prevailing_wage  full_time_position  case_status  \\\n",
       "0            14513         592.2029                   1            0   \n",
       "1             2412       83425.6500                   1            1   \n",
       "2            44444      122996.8600                   1            0   \n",
       "3               98       83434.0300                   1            0   \n",
       "4             1082      149907.3900                   1            1   \n",
       "\n",
       "   continent_Africa  continent_Asia  continent_Europe  ...  \\\n",
       "0                 0               1                 0  ...   \n",
       "1                 0               1                 0  ...   \n",
       "2                 0               1                 0  ...   \n",
       "3                 0               1                 0  ...   \n",
       "4                 1               0                 0  ...   \n",
       "\n",
       "   region_of_employment_Island  region_of_employment_Midwest  \\\n",
       "0                            0                             0   \n",
       "1                            0                             0   \n",
       "2                            0                             0   \n",
       "3                            0                             0   \n",
       "4                            0                             0   \n",
       "\n",
       "   region_of_employment_Northeast  region_of_employment_South  \\\n",
       "0                               0                           0   \n",
       "1                               1                           0   \n",
       "2                               0                           0   \n",
       "3                               0                           0   \n",
       "4                               0                           1   \n",
       "\n",
       "   region_of_employment_West  unit_of_wage_Hour  unit_of_wage_Month  \\\n",
       "0                          1                  1                   0   \n",
       "1                          0                  0                   0   \n",
       "2                          1                  0                   0   \n",
       "3                          1                  0                   0   \n",
       "4                          0                  0                   0   \n",
       "\n",
       "   unit_of_wage_Week  unit_of_wage_Year  age_of_company  \n",
       "0                  0                  0              15  \n",
       "1                  0                  1              20  \n",
       "2                  0                  1              14  \n",
       "3                  0                  1             125  \n",
       "4                  0                  1              17  \n",
       "\n",
       "[5 rows x 23 columns]"
      ]
     },
     "execution_count": 42,
     "metadata": {},
     "output_type": "execute_result"
    }
   ],
   "source": [
    "df.head()"
   ]
  },
  {
   "cell_type": "code",
   "execution_count": 43,
   "id": "1ba10ade",
   "metadata": {},
   "outputs": [
    {
     "data": {
      "text/plain": [
       "(25480, 23)"
      ]
     },
     "execution_count": 43,
     "metadata": {},
     "output_type": "execute_result"
    }
   ],
   "source": [
    "df.shape"
   ]
  },
  {
   "cell_type": "markdown",
   "id": "4599d629",
   "metadata": {},
   "source": [
    "* Now, we are all set."
   ]
  },
  {
   "cell_type": "markdown",
   "id": "195902bb",
   "metadata": {},
   "source": [
    "#### Outliers Detect"
   ]
  },
  {
   "cell_type": "code",
   "execution_count": 44,
   "id": "bd4e70bd",
   "metadata": {},
   "outputs": [
    {
     "data": {
      "image/png": "[encoded data removed]",
      "text/plain": [
       "<Figure size 1080x864 with 23 Axes>"
      ]
     },
     "metadata": {},
     "output_type": "display_data"
    }
   ],
   "source": [
    "numeric_columns = df.select_dtypes(include=np.number).columns.tolist()\n",
    "\n",
    "plt.figure(figsize=(15, 12))\n",
    "\n",
    "for i, variable in enumerate(numeric_columns):\n",
    "    plt.subplot(5, 5, i + 1)\n",
    "    plt.boxplot(df[variable], whis=1.5)\n",
    "    plt.tight_layout()\n",
    "    plt.title(variable)"
   ]
  },
  {
   "cell_type": "markdown",
   "id": "28eadaf1",
   "metadata": {},
   "source": [
    "Observations\n",
    "\n",
    "*    There are quite a few outliers in the data.\n",
    "*    However, I won't deal with them as they are from the real world."
   ]
  },
  {
   "cell_type": "markdown",
   "id": "397c6216",
   "metadata": {},
   "source": [
    "#### Preparing data for modeling"
   ]
  },
  {
   "cell_type": "markdown",
   "id": "6daf4928",
   "metadata": {},
   "source": [
    "- We want to predict which visa will be certified.\n",
    "- I'll split the data into train and test set."
   ]
  },
  {
   "cell_type": "code",
   "execution_count": 45,
   "id": "5624d0e4",
   "metadata": {},
   "outputs": [],
   "source": [
    "X = df.drop([\"case_status\"], axis=1)\n",
    "Y = df[\"case_status\"]\n",
    "\n",
    "X_train, X_test, y_train, y_test = train_test_split(\n",
    "    X, Y, test_size=0.30, random_state=1, stratify=Y\n",
    ")"
   ]
  },
  {
   "cell_type": "code",
   "execution_count": 46,
   "id": "a4ff7abc",
   "metadata": {},
   "outputs": [
    {
     "name": "stdout",
     "output_type": "stream",
     "text": [
      "Shape of Training set :  (17836, 22)\n",
      "Shape of test set :  (7644, 22)\n",
      "Percentage of classes in training set:\n",
      "1    0.667919\n",
      "0    0.332081\n",
      "Name: case_status, dtype: float64\n",
      "Percentage of classes in test set:\n",
      "1    0.667844\n",
      "0    0.332156\n",
      "Name: case_status, dtype: float64\n"
     ]
    }
   ],
   "source": [
    "print(\"Shape of Training set : \", X_train.shape)\n",
    "print(\"Shape of test set : \", X_test.shape)\n",
    "print(\"Percentage of classes in training set:\")\n",
    "print(y_train.value_counts(normalize=True))\n",
    "print(\"Percentage of classes in test set:\")\n",
    "print(y_test.value_counts(normalize=True))"
   ]
  },
  {
   "cell_type": "markdown",
   "id": "68ba5755",
   "metadata": {},
   "source": [
    "* Awesome! Let's make the model now."
   ]
  },
  {
   "cell_type": "markdown",
   "id": "b615efdd",
   "metadata": {},
   "source": [
    "### Model evaluation criterion"
   ]
  },
  {
   "cell_type": "markdown",
   "id": "16dd35b8",
   "metadata": {},
   "source": [
    "* Before building the model, we need to identify which value should be maximum."
   ]
  },
  {
   "cell_type": "markdown",
   "id": "65b03887",
   "metadata": {},
   "source": [
    "### The model may make wrong predictions:\n",
    "* The model predicts that the visa application will be certified, but in reality, the visa application should be rejected.\n",
    "* The model predicts that visa applications will not be certified, when in fact visa applications should be certified."
   ]
  },
  {
   "cell_type": "markdown",
   "id": "4a2584c0",
   "metadata": {},
   "source": [
    "### Which mistake is more important:\n",
    "* Both are important.\n",
    "* Companies and locals in the U.S. stand to lose by letting unqualified people get approved. Companies could lose money, and local Americans could lose their jobs.\n",
    "* If a qualified job candidate is denied entry, the company and the candidate will suffer losses. The company may lose future company interests because it cannot have an experienced staff member, and the candidate may also lose opportunity in the future, that the opportunity to work in the United States, resulting in a butterfly effect that changes the trajectory of their life."
   ]
  },
  {
   "cell_type": "markdown",
   "id": "87875c13",
   "metadata": {},
   "source": [
    "### How to reduce the losses?\n",
    "* F1 Score can be used to be a important criterion, greater the F1 score higher the chance to reduce the wrong."
   ]
  },
  {
   "cell_type": "markdown",
   "id": "8ef6d749",
   "metadata": {},
   "source": [
    "### Create functions to calculate different metrics- Accuracy, Recall and Precision and plot the confusion matrix."
   ]
  },
  {
   "cell_type": "code",
   "execution_count": 47,
   "id": "cd8a4b80",
   "metadata": {},
   "outputs": [],
   "source": [
    "def model_performance_classification_sklearn(model, predictors, target):\n",
    "    \n",
    "    pred = model.predict(predictors)\n",
    "\n",
    "    acc = accuracy_score(target, pred)  \n",
    "    recall = recall_score(target, pred)  \n",
    "    precision = precision_score(target, pred)  \n",
    "    f1 = f1_score(target, pred) \n",
    "\n",
    "    df_perf = pd.DataFrame(\n",
    "        {\"Accuracy\": acc, \"Recall\": recall, \"Precision\": precision, \"F1\": f1,},\n",
    "        index=[0],\n",
    "    )\n",
    "\n",
    "    return df_perf"
   ]
  },
  {
   "cell_type": "code",
   "execution_count": 48,
   "id": "6ab5eb62",
   "metadata": {},
   "outputs": [],
   "source": [
    "def confusion_matrix_sklearn(model, predictors, target):\n",
    "    \n",
    "    y_pred = model.predict(predictors)\n",
    "    cm = confusion_matrix(target, y_pred)\n",
    "    labels = np.asarray(\n",
    "        [\n",
    "            [\"{0:0.0f}\".format(item) + \"\\n{0:.2%}\".format(item / cm.flatten().sum())]\n",
    "            for item in cm.flatten()\n",
    "        ]\n",
    "    ).reshape(2, 2)\n",
    "\n",
    "    plt.figure(figsize=(6, 4))\n",
    "    sns.heatmap(cm, annot=labels, fmt=\"\")\n",
    "    plt.ylabel(\"True label\")\n",
    "    plt.xlabel(\"Predicted label\")"
   ]
  },
  {
   "cell_type": "markdown",
   "id": "domestic-iceland",
   "metadata": {
    "id": "domestic-iceland"
   },
   "source": [
    "## Building bagging and boosting models"
   ]
  },
  {
   "cell_type": "markdown",
   "id": "f3f97c19",
   "metadata": {},
   "source": [
    "## 1.Bagging Models"
   ]
  },
  {
   "cell_type": "markdown",
   "id": "0870a783",
   "metadata": {},
   "source": [
    "### 1.1 Decision Tree Model"
   ]
  },
  {
   "cell_type": "markdown",
   "id": "867d6c5b",
   "metadata": {},
   "source": [
    "* In this case, we can pass a dictionary {0:0.33,1:0.67} to the model to specify the weight of each class and the decision tree will give more weightage to class 1."
   ]
  },
  {
   "cell_type": "code",
   "execution_count": 49,
   "id": "8b28d871",
   "metadata": {},
   "outputs": [
    {
     "data": {
      "text/plain": [
       "DecisionTreeClassifier(class_weight={0: 0.33, 1: 0.67}, random_state=1)"
      ]
     },
     "execution_count": 49,
     "metadata": {},
     "output_type": "execute_result"
    }
   ],
   "source": [
    "dtree = DecisionTreeClassifier(criterion='gini',class_weight={0:0.33,1:0.67},random_state=1)\n",
    "dtree.fit(X_train, y_train)"
   ]
  },
  {
   "cell_type": "code",
   "execution_count": 50,
   "id": "2601d8c2",
   "metadata": {},
   "outputs": [
    {
     "data": {
      "image/png": "[encoded data removed]",
      "text/plain": [
       "<Figure size 432x288 with 2 Axes>"
      ]
     },
     "metadata": {},
     "output_type": "display_data"
    }
   ],
   "source": [
    "confusion_matrix_sklearn(dtree, X_train, y_train)"
   ]
  },
  {
   "cell_type": "code",
   "execution_count": 51,
   "id": "3fe610a4",
   "metadata": {},
   "outputs": [
    {
     "name": "stdout",
     "output_type": "stream",
     "text": [
      "Training performance \n",
      "    Accuracy  Recall  Precision   F1\n",
      "0       1.0     1.0        1.0  1.0\n"
     ]
    }
   ],
   "source": [
    "dtree_model_train_perf=model_performance_classification_sklearn(dtree, X_train, y_train)\n",
    "print(\"Training performance \\n\",dtree_model_train_perf)"
   ]
  },
  {
   "cell_type": "code",
   "execution_count": 52,
   "id": "1fd16875",
   "metadata": {},
   "outputs": [
    {
     "data": {
      "image/png": "[encoded data removed]",
      "text/plain": [
       "<Figure size 432x288 with 2 Axes>"
      ]
     },
     "metadata": {},
     "output_type": "display_data"
    }
   ],
   "source": [
    "confusion_matrix_sklearn(dtree, X_test, y_test)"
   ]
  },
  {
   "cell_type": "code",
   "execution_count": 53,
   "id": "d606ffe6",
   "metadata": {},
   "outputs": [
    {
     "name": "stdout",
     "output_type": "stream",
     "text": [
      "Testing performance \n",
      "    Accuracy    Recall  Precision        F1\n",
      "0  0.654893  0.729285   0.747741  0.738397\n"
     ]
    }
   ],
   "source": [
    "dtree_model_test_perf=model_performance_classification_sklearn(dtree, X_test, y_test)\n",
    "print(\"Testing performance \\n\",dtree_model_test_perf)"
   ]
  },
  {
   "cell_type": "markdown",
   "id": "6615be06",
   "metadata": {},
   "source": [
    "* Decision tree is working well on the training data but is not able to generalize well on the test data concerning the F1, it's overfit."
   ]
  },
  {
   "cell_type": "markdown",
   "id": "04e88933",
   "metadata": {},
   "source": [
    "### 1.2 Bagging Classifier"
   ]
  },
  {
   "cell_type": "code",
   "execution_count": 54,
   "id": "d1a95f5a",
   "metadata": {},
   "outputs": [
    {
     "data": {
      "text/plain": [
       "BaggingClassifier(random_state=1)"
      ]
     },
     "execution_count": 54,
     "metadata": {},
     "output_type": "execute_result"
    }
   ],
   "source": [
    "bagging = BaggingClassifier(random_state=1)\n",
    "bagging.fit(X_train,y_train)"
   ]
  },
  {
   "cell_type": "code",
   "execution_count": 55,
   "id": "be32210f",
   "metadata": {},
   "outputs": [
    {
     "data": {
      "image/png": "[encoded data removed]",
      "text/plain": [
       "<Figure size 432x288 with 2 Axes>"
      ]
     },
     "metadata": {},
     "output_type": "display_data"
    }
   ],
   "source": [
    "confusion_matrix_sklearn(bagging, X_train, y_train)"
   ]
  },
  {
   "cell_type": "code",
   "execution_count": 56,
   "id": "e03010c9",
   "metadata": {},
   "outputs": [
    {
     "name": "stdout",
     "output_type": "stream",
     "text": [
      "Training performance \n",
      "    Accuracy    Recall  Precision        F1\n",
      "0  0.983797  0.985226   0.990464  0.987838\n"
     ]
    }
   ],
   "source": [
    "bagging_model_train_perf=model_performance_classification_sklearn(bagging, X_train, y_train)\n",
    "print(\"Training performance \\n\",bagging_model_train_perf)"
   ]
  },
  {
   "cell_type": "code",
   "execution_count": 57,
   "id": "a050b63b",
   "metadata": {},
   "outputs": [
    {
     "data": {
      "image/png": "[encoded data removed]",
      "text/plain": [
       "<Figure size 432x288 with 2 Axes>"
      ]
     },
     "metadata": {},
     "output_type": "display_data"
    }
   ],
   "source": [
    "confusion_matrix_sklearn(bagging, X_test, y_test)"
   ]
  },
  {
   "cell_type": "code",
   "execution_count": 58,
   "id": "d88ee672",
   "metadata": {},
   "outputs": [
    {
     "name": "stdout",
     "output_type": "stream",
     "text": [
      "Testing performance \n",
      "    Accuracy    Recall  Precision        F1\n",
      "0  0.698195  0.778257   0.771756  0.774993\n"
     ]
    }
   ],
   "source": [
    "bagging_model_test_perf=model_performance_classification_sklearn(bagging, X_test, y_test)\n",
    "print(\"Testing performance \\n\",bagging_model_test_perf)"
   ]
  },
  {
   "cell_type": "markdown",
   "id": "920bfe94",
   "metadata": {},
   "source": [
    "* Bagging classifier is overfitting on the training set and is performing poorly on the test set in terms of F1."
   ]
  },
  {
   "cell_type": "markdown",
   "id": "da4f06f3",
   "metadata": {},
   "source": [
    "### 1.3 Bagging Classifier with weighted decision tree"
   ]
  },
  {
   "cell_type": "code",
   "execution_count": 59,
   "id": "bc064db1",
   "metadata": {},
   "outputs": [
    {
     "data": {
      "text/plain": [
       "BaggingClassifier(base_estimator=DecisionTreeClassifier(class_weight={0: 0.33,\n",
       "                                                                      1: 0.67},\n",
       "                                                        random_state=1),\n",
       "                  random_state=1)"
      ]
     },
     "execution_count": 59,
     "metadata": {},
     "output_type": "execute_result"
    }
   ],
   "source": [
    "bagging_wt = BaggingClassifier(base_estimator=DecisionTreeClassifier(criterion='gini',class_weight={0:0.33,1:0.67},random_state=1),random_state=1)\n",
    "bagging_wt.fit(X_train,y_train)"
   ]
  },
  {
   "cell_type": "code",
   "execution_count": 60,
   "id": "f7dab27f",
   "metadata": {},
   "outputs": [
    {
     "data": {
      "image/png": "[encoded data removed]",
      "text/plain": [
       "<Figure size 432x288 with 2 Axes>"
      ]
     },
     "metadata": {},
     "output_type": "display_data"
    }
   ],
   "source": [
    "confusion_matrix_sklearn(bagging_wt,X_train,y_train)"
   ]
  },
  {
   "cell_type": "code",
   "execution_count": 61,
   "id": "5a03f27e",
   "metadata": {},
   "outputs": [
    {
     "name": "stdout",
     "output_type": "stream",
     "text": [
      "Training performance \n",
      "    Accuracy   Recall  Precision        F1\n",
      "0  0.984974  0.98489   0.992556  0.988708\n"
     ]
    }
   ],
   "source": [
    "bagging_wt_model_train_perf=model_performance_classification_sklearn(bagging_wt,X_train,y_train)\n",
    "print(\"Training performance \\n\",bagging_wt_model_train_perf)"
   ]
  },
  {
   "cell_type": "code",
   "execution_count": 62,
   "id": "a6731efa",
   "metadata": {},
   "outputs": [
    {
     "data": {
      "image/png": "[encoded data removed]",
      "text/plain": [
       "<Figure size 432x288 with 2 Axes>"
      ]
     },
     "metadata": {},
     "output_type": "display_data"
    }
   ],
   "source": [
    "confusion_matrix_sklearn(bagging_wt,X_test,y_test)"
   ]
  },
  {
   "cell_type": "code",
   "execution_count": 63,
   "id": "9fa71cbe",
   "metadata": {},
   "outputs": [
    {
     "name": "stdout",
     "output_type": "stream",
     "text": [
      "Testing performance \n",
      "    Accuracy    Recall  Precision        F1\n",
      "0  0.691784  0.760039   0.774297  0.767102\n"
     ]
    }
   ],
   "source": [
    "bagging_wt_model_test_perf=model_performance_classification_sklearn(bagging_wt, X_test, y_test)\n",
    "print(\"Testing performance \\n\",bagging_wt_model_test_perf)"
   ]
  },
  {
   "cell_type": "markdown",
   "id": "146c8ec8",
   "metadata": {},
   "source": [
    "* Bagging classifier with a weighted decision tree is giving very good accuracy and prediction but is not able to generalize well on test data in terms of F1. Still overfitting, not improve much."
   ]
  },
  {
   "cell_type": "markdown",
   "id": "0dc5c178",
   "metadata": {},
   "source": [
    "### 1.4 Random Forest"
   ]
  },
  {
   "cell_type": "code",
   "execution_count": 64,
   "id": "66b5e0ef",
   "metadata": {},
   "outputs": [
    {
     "data": {
      "text/plain": [
       "RandomForestClassifier(random_state=1)"
      ]
     },
     "execution_count": 64,
     "metadata": {},
     "output_type": "execute_result"
    }
   ],
   "source": [
    "rf = RandomForestClassifier(random_state=1)\n",
    "rf.fit(X_train,y_train)"
   ]
  },
  {
   "cell_type": "code",
   "execution_count": 65,
   "id": "71e5038c",
   "metadata": {},
   "outputs": [
    {
     "data": {
      "image/png": "[encoded data removed]",
      "text/plain": [
       "<Figure size 432x288 with 2 Axes>"
      ]
     },
     "metadata": {},
     "output_type": "display_data"
    }
   ],
   "source": [
    "confusion_matrix_sklearn(rf,X_train,y_train)"
   ]
  },
  {
   "cell_type": "code",
   "execution_count": 66,
   "id": "a64cad43",
   "metadata": {},
   "outputs": [
    {
     "name": "stdout",
     "output_type": "stream",
     "text": [
      "Training performance \n",
      "    Accuracy  Recall  Precision   F1\n",
      "0       1.0     1.0        1.0  1.0\n"
     ]
    }
   ],
   "source": [
    "rf_model_train_perf=model_performance_classification_sklearn(rf,X_train,y_train)\n",
    "print(\"Training performance \\n\",rf_model_train_perf)"
   ]
  },
  {
   "cell_type": "code",
   "execution_count": 67,
   "id": "728a3f42",
   "metadata": {},
   "outputs": [
    {
     "data": {
      "image/png": "[encoded data removed]",
      "text/plain": [
       "<Figure size 432x288 with 2 Axes>"
      ]
     },
     "metadata": {},
     "output_type": "display_data"
    }
   ],
   "source": [
    "confusion_matrix_sklearn(rf,X_test,y_test)"
   ]
  },
  {
   "cell_type": "code",
   "execution_count": 68,
   "id": "5f092bd1",
   "metadata": {},
   "outputs": [
    {
     "name": "stdout",
     "output_type": "stream",
     "text": [
      "Testing performance \n",
      "    Accuracy    Recall  Precision        F1\n",
      "0  0.723051  0.835651   0.769481  0.801202\n"
     ]
    }
   ],
   "source": [
    "rf_model_test_perf=model_performance_classification_sklearn(rf,X_test,y_test)\n",
    "print(\"Testing performance \\n\",rf_model_test_perf)"
   ]
  },
  {
   "cell_type": "markdown",
   "id": "eeb90d4a",
   "metadata": {},
   "source": [
    "* Random Forest has performed well in terms of accuracy, precision, Recall and F1, but it is not able to generalize well on the test data in terms of F1, still overfitting, but better than the decission tree and decission tree with weight class."
   ]
  },
  {
   "cell_type": "markdown",
   "id": "091e93ff",
   "metadata": {},
   "source": [
    "### 1.5 Random forest with class weights"
   ]
  },
  {
   "cell_type": "code",
   "execution_count": 69,
   "id": "4863d4fd",
   "metadata": {},
   "outputs": [
    {
     "data": {
      "text/plain": [
       "RandomForestClassifier(class_weight={0: 0.33, 1: 0.67}, random_state=1)"
      ]
     },
     "execution_count": 69,
     "metadata": {},
     "output_type": "execute_result"
    }
   ],
   "source": [
    "rf_wt = RandomForestClassifier(class_weight={0:0.33,1:0.67}, random_state=1)\n",
    "rf_wt.fit(X_train,y_train)"
   ]
  },
  {
   "cell_type": "code",
   "execution_count": 70,
   "id": "b390af0e",
   "metadata": {},
   "outputs": [
    {
     "data": {
      "image/png": "[encoded data removed]",
      "text/plain": [
       "<Figure size 432x288 with 2 Axes>"
      ]
     },
     "metadata": {},
     "output_type": "display_data"
    }
   ],
   "source": [
    "confusion_matrix_sklearn(rf_wt, X_train,y_train)"
   ]
  },
  {
   "cell_type": "code",
   "execution_count": 71,
   "id": "4e0b5ab3",
   "metadata": {},
   "outputs": [
    {
     "name": "stdout",
     "output_type": "stream",
     "text": [
      "Training performance \n",
      "    Accuracy    Recall  Precision        F1\n",
      "0  0.999944  0.999916        1.0  0.999958\n"
     ]
    }
   ],
   "source": [
    "rf_wt_model_train_perf=model_performance_classification_sklearn(rf_wt, X_train,y_train)\n",
    "print(\"Training performance \\n\",rf_wt_model_train_perf)"
   ]
  },
  {
   "cell_type": "code",
   "execution_count": 72,
   "id": "6f7682b0",
   "metadata": {},
   "outputs": [
    {
     "data": {
      "image/png": "[encoded data removed]",
      "text/plain": [
       "<Figure size 432x288 with 2 Axes>"
      ]
     },
     "metadata": {},
     "output_type": "display_data"
    }
   ],
   "source": [
    "confusion_matrix_sklearn(rf_wt, X_test,y_test)"
   ]
  },
  {
   "cell_type": "code",
   "execution_count": 73,
   "id": "d8f77923",
   "metadata": {
    "scrolled": true
   },
   "outputs": [
    {
     "name": "stdout",
     "output_type": "stream",
     "text": [
      "Testing performance \n",
      "    Accuracy    Recall  Precision        F1\n",
      "0  0.720696  0.824094   0.772777  0.797611\n"
     ]
    }
   ],
   "source": [
    "rf_wt_model_test_perf=model_performance_classification_sklearn(rf_wt, X_test,y_test)\n",
    "print(\"Testing performance \\n\",rf_wt_model_test_perf)"
   ]
  },
  {
   "cell_type": "markdown",
   "id": "7df5a5b8",
   "metadata": {},
   "source": [
    "* There is not much improvement in metrics of weighted random forest as compared to the unweighted random forest."
   ]
  },
  {
   "cell_type": "markdown",
   "id": "f0bc5f6f",
   "metadata": {},
   "source": [
    "## 2.Boosting Model"
   ]
  },
  {
   "cell_type": "markdown",
   "id": "2f7320bc",
   "metadata": {},
   "source": [
    "### 2.1 AdaBoost Classifier"
   ]
  },
  {
   "cell_type": "code",
   "execution_count": 74,
   "id": "537ee654",
   "metadata": {},
   "outputs": [
    {
     "data": {
      "text/plain": [
       "AdaBoostClassifier(random_state=1)"
      ]
     },
     "execution_count": 74,
     "metadata": {},
     "output_type": "execute_result"
    }
   ],
   "source": [
    "abc = AdaBoostClassifier(random_state=1)\n",
    "abc.fit(X_train,y_train)"
   ]
  },
  {
   "cell_type": "code",
   "execution_count": 75,
   "id": "8bb672ee",
   "metadata": {},
   "outputs": [
    {
     "data": {
      "image/png": "[encoded data removed]",
      "text/plain": [
       "<Figure size 432x288 with 2 Axes>"
      ]
     },
     "metadata": {},
     "output_type": "display_data"
    }
   ],
   "source": [
    "confusion_matrix_sklearn(abc, X_train,y_train)"
   ]
  },
  {
   "cell_type": "code",
   "execution_count": 76,
   "id": "e95c744f",
   "metadata": {},
   "outputs": [
    {
     "name": "stdout",
     "output_type": "stream",
     "text": [
      "Training performance \n",
      "    Accuracy    Recall  Precision        F1\n",
      "0  0.737273  0.889197   0.758865  0.818878\n"
     ]
    }
   ],
   "source": [
    "abc_model_train_perf=model_performance_classification_sklearn(abc, X_train,y_train)\n",
    "print(\"Training performance \\n\",abc_model_train_perf)"
   ]
  },
  {
   "cell_type": "code",
   "execution_count": 77,
   "id": "62a12731",
   "metadata": {},
   "outputs": [
    {
     "data": {
      "image/png": "[encoded data removed]",
      "text/plain": [
       "<Figure size 432x288 with 2 Axes>"
      ]
     },
     "metadata": {},
     "output_type": "display_data"
    }
   ],
   "source": [
    "confusion_matrix_sklearn(abc, X_test,y_test)"
   ]
  },
  {
   "cell_type": "code",
   "execution_count": 78,
   "id": "9b873e2c",
   "metadata": {},
   "outputs": [
    {
     "name": "stdout",
     "output_type": "stream",
     "text": [
      "Testing performance \n",
      "    Accuracy    Recall  Precision        F1\n",
      "0  0.732862  0.885211   0.756318  0.815704\n"
     ]
    }
   ],
   "source": [
    "abc_model_test_perf=model_performance_classification_sklearn(abc, X_test,y_test)\n",
    "print(\"Testing performance \\n\",abc_model_test_perf)"
   ]
  },
  {
   "cell_type": "markdown",
   "id": "2ab7f32a",
   "metadata": {},
   "source": [
    "* Adaboosting preformed good on both training and testing set, it's not overfitting, F1 score are good in both training and testing data, but I will still try to improve the F1 score. However, it's not good enough in terms of accuracy in both training and testing dataset."
   ]
  },
  {
   "cell_type": "markdown",
   "id": "129f7cf7",
   "metadata": {},
   "source": [
    "### 2.2 Gradient Boosting Classifier"
   ]
  },
  {
   "cell_type": "code",
   "execution_count": 79,
   "id": "e001a6a3",
   "metadata": {},
   "outputs": [
    {
     "data": {
      "text/plain": [
       "GradientBoostingClassifier(random_state=1)"
      ]
     },
     "execution_count": 79,
     "metadata": {},
     "output_type": "execute_result"
    }
   ],
   "source": [
    "gbc = GradientBoostingClassifier(random_state=1)\n",
    "gbc.fit(X_train,y_train)"
   ]
  },
  {
   "cell_type": "code",
   "execution_count": 80,
   "id": "db3eec87",
   "metadata": {},
   "outputs": [
    {
     "data": {
      "image/png": "[encoded data removed]",
      "text/plain": [
       "<Figure size 432x288 with 2 Axes>"
      ]
     },
     "metadata": {},
     "output_type": "display_data"
    }
   ],
   "source": [
    "confusion_matrix_sklearn(gbc, X_train,y_train)"
   ]
  },
  {
   "cell_type": "code",
   "execution_count": 81,
   "id": "575201c9",
   "metadata": {},
   "outputs": [
    {
     "name": "stdout",
     "output_type": "stream",
     "text": [
      "Training performance \n",
      "    Accuracy    Recall  Precision        F1\n",
      "0   0.75841  0.883657   0.782677  0.830107\n"
     ]
    }
   ],
   "source": [
    "gbc_model_train_perf=model_performance_classification_sklearn(gbc, X_train,y_train)\n",
    "print(\"Training performance \\n\",gbc_model_train_perf)"
   ]
  },
  {
   "cell_type": "code",
   "execution_count": 82,
   "id": "0d1ac0c7",
   "metadata": {},
   "outputs": [
    {
     "data": {
      "image/png": "[encoded data removed]",
      "text/plain": [
       "<Figure size 432x288 with 2 Axes>"
      ]
     },
     "metadata": {},
     "output_type": "display_data"
    }
   ],
   "source": [
    "confusion_matrix_sklearn(gbc, X_test,y_test)"
   ]
  },
  {
   "cell_type": "code",
   "execution_count": 83,
   "id": "1f8e2d96",
   "metadata": {},
   "outputs": [
    {
     "name": "stdout",
     "output_type": "stream",
     "text": [
      "Testing performance \n",
      "    Accuracy    Recall  Precision        F1\n",
      "0  0.745683  0.876983   0.772829  0.821619\n"
     ]
    }
   ],
   "source": [
    "gbc_model_test_perf=model_performance_classification_sklearn(gbc, X_test,y_test)\n",
    "print(\"Testing performance \\n\",gbc_model_test_perf)"
   ]
  },
  {
   "cell_type": "markdown",
   "id": "46d3d931",
   "metadata": {},
   "source": [
    "* Small improvement in F1 score, but accuracy still not good enough in both training and testing dataset."
   ]
  },
  {
   "cell_type": "markdown",
   "id": "prime-athletics",
   "metadata": {
    "id": "prime-athletics"
   },
   "source": [
    "##  Will tuning the hyperparameters improve the model performance?"
   ]
  },
  {
   "cell_type": "markdown",
   "id": "98be3893",
   "metadata": {},
   "source": [
    "* Now, I will try to tune the models that have been done before to improve performance.\n",
    "* And after tuning the model, I will make the last stacking model by using the tuned estimators."
   ]
  },
  {
   "cell_type": "markdown",
   "id": "819f1c1b",
   "metadata": {},
   "source": [
    "## 3. Tuning Models"
   ]
  },
  {
   "cell_type": "markdown",
   "id": "f35f0327",
   "metadata": {},
   "source": [
    "### 3.1 Tuning Decision Tree"
   ]
  },
  {
   "cell_type": "code",
   "execution_count": 84,
   "id": "45e00114",
   "metadata": {},
   "outputs": [
    {
     "data": {
      "text/plain": [
       "DecisionTreeClassifier(class_weight={0: 0.33, 1: 0.67}, max_depth=9,\n",
       "                       max_leaf_nodes=15, min_impurity_decrease=0.0001,\n",
       "                       random_state=1)"
      ]
     },
     "execution_count": 84,
     "metadata": {},
     "output_type": "execute_result"
    }
   ],
   "source": [
    " dtree_estimator = DecisionTreeClassifier(class_weight={0:0.33,1:0.67},random_state=1)\n",
    "\n",
    "parameters = {'max_depth': np.arange(2,30), \n",
    "              'min_samples_leaf': [1, 2, 5, 7, 10],\n",
    "              'max_leaf_nodes' : [2, 3, 5, 10,15],\n",
    "              'min_impurity_decrease': [0.0001,0.001,0.01,0.1]\n",
    "             }\n",
    "\n",
    "scorer = metrics.make_scorer(metrics.f1_score)\n",
    "\n",
    "grid_obj = GridSearchCV(dtree_estimator, parameters, scoring=scorer)\n",
    "grid_obj = grid_obj.fit(X_train, y_train)\n",
    "\n",
    "dtree_tuned = grid_obj.best_estimator_\n",
    "\n",
    "dtree_tuned.fit(X_train, y_train)"
   ]
  },
  {
   "cell_type": "code",
   "execution_count": 85,
   "id": "e1a258af",
   "metadata": {},
   "outputs": [
    {
     "data": {
      "image/png": "[encoded data removed]",
      "text/plain": [
       "<Figure size 432x288 with 2 Axes>"
      ]
     },
     "metadata": {},
     "output_type": "display_data"
    }
   ],
   "source": [
    "confusion_matrix_sklearn(dtree_tuned, X_train,y_train)"
   ]
  },
  {
   "cell_type": "code",
   "execution_count": 86,
   "id": "38099247",
   "metadata": {},
   "outputs": [
    {
     "name": "stdout",
     "output_type": "stream",
     "text": [
      "Training performance \n",
      "    Accuracy   Recall  Precision       F1\n",
      "0   0.72976  0.94485   0.730008  0.82365\n"
     ]
    }
   ],
   "source": [
    "dtree_tuned_model_train_perf=model_performance_classification_sklearn(dtree_tuned, X_train,y_train)\n",
    "print(\"Training performance \\n\",dtree_tuned_model_train_perf)"
   ]
  },
  {
   "cell_type": "code",
   "execution_count": 87,
   "id": "b8947222",
   "metadata": {},
   "outputs": [
    {
     "data": {
      "image/png": "[encoded data removed]",
      "text/plain": [
       "<Figure size 432x288 with 2 Axes>"
      ]
     },
     "metadata": {},
     "output_type": "display_data"
    }
   ],
   "source": [
    "confusion_matrix_sklearn(dtree_tuned, X_test,y_test)"
   ]
  },
  {
   "cell_type": "code",
   "execution_count": 88,
   "id": "1e0e18aa",
   "metadata": {},
   "outputs": [
    {
     "name": "stdout",
     "output_type": "stream",
     "text": [
      "Testing performance \n",
      "    Accuracy    Recall  Precision        F1\n",
      "0  0.720304  0.941626   0.723183  0.818074\n"
     ]
    }
   ],
   "source": [
    "dtree_tuned_model_test_perf=model_performance_classification_sklearn(dtree_tuned, X_test, y_test)\n",
    "print(\"Testing performance \\n\",dtree_tuned_model_test_perf)"
   ]
  },
  {
   "cell_type": "markdown",
   "id": "789c4cd9",
   "metadata": {},
   "source": [
    "* Make some improvements here, reduced overfitting, F1 is pretty good, but accuracy is a little bit lower."
   ]
  },
  {
   "cell_type": "markdown",
   "id": "72a71866",
   "metadata": {},
   "source": [
    "### 3.2 Tuning Bagging Classifier"
   ]
  },
  {
   "cell_type": "code",
   "execution_count": 89,
   "id": "e4d759bb",
   "metadata": {},
   "outputs": [
    {
     "data": {
      "text/plain": [
       "BaggingClassifier(base_estimator=DecisionTreeClassifier(class_weight={0: 0.33,\n",
       "                                                                      1: 0.67},\n",
       "                                                        random_state=1),\n",
       "                  max_features=0.7, max_samples=0.9, n_estimators=50,\n",
       "                  random_state=1)"
      ]
     },
     "execution_count": 89,
     "metadata": {},
     "output_type": "execute_result"
    }
   ],
   "source": [
    "cl1 = DecisionTreeClassifier(class_weight={0:0.33,1:0.67},random_state=1)\n",
    "param_grid = {'base_estimator':[cl1],\n",
    "              'max_features': [0.7,0.8,0.9,1],\n",
    "              'max_samples': [0.7,0.8,0.9,1], \n",
    "              'n_estimators' : [10,20,30,40,50],\n",
    "             }\n",
    "\n",
    "grid = GridSearchCV(BaggingClassifier(random_state=1,bootstrap=True), param_grid=param_grid, scoring = 'f1', cv = 5)\n",
    "grid.fit(X_train, y_train)\n",
    "\n",
    "bagging_tuned  = grid.best_estimator_\n",
    "bagging_tuned.fit(X_train,y_train)"
   ]
  },
  {
   "cell_type": "code",
   "execution_count": 90,
   "id": "9d51c003",
   "metadata": {},
   "outputs": [
    {
     "data": {
      "image/png": "[encoded data removed]",
      "text/plain": [
       "<Figure size 432x288 with 2 Axes>"
      ]
     },
     "metadata": {},
     "output_type": "display_data"
    }
   ],
   "source": [
    "confusion_matrix_sklearn(bagging_tuned, X_train,y_train)"
   ]
  },
  {
   "cell_type": "code",
   "execution_count": 91,
   "id": "a9d4fdeb",
   "metadata": {},
   "outputs": [
    {
     "name": "stdout",
     "output_type": "stream",
     "text": [
      "Training performance \n",
      "    Accuracy    Recall  Precision        F1\n",
      "0  0.998318  0.999916   0.997571  0.998742\n"
     ]
    }
   ],
   "source": [
    "bagging_tuned_model_train_perf=model_performance_classification_sklearn(bagging_tuned, X_train,y_train)\n",
    "print(\"Training performance \\n\",bagging_tuned_model_train_perf)"
   ]
  },
  {
   "cell_type": "code",
   "execution_count": 92,
   "id": "c5df12dd",
   "metadata": {},
   "outputs": [
    {
     "data": {
      "image/png": "[encoded data removed]",
      "text/plain": [
       "<Figure size 432x288 with 2 Axes>"
      ]
     },
     "metadata": {},
     "output_type": "display_data"
    }
   ],
   "source": [
    "confusion_matrix_sklearn(bagging_tuned, X_test,y_test)"
   ]
  },
  {
   "cell_type": "code",
   "execution_count": 93,
   "id": "c6ae4ada",
   "metadata": {},
   "outputs": [
    {
     "name": "stdout",
     "output_type": "stream",
     "text": [
      "Testing performance \n",
      "    Accuracy    Recall  Precision        F1\n",
      "0  0.723051  0.877963       0.75  0.808952\n"
     ]
    }
   ],
   "source": [
    "bagging_tuned_model_test_perf=model_performance_classification_sklearn(bagging_tuned, X_test, y_test)\n",
    "print(\"Testing performance \\n\",bagging_tuned_model_test_perf)"
   ]
  },
  {
   "cell_type": "markdown",
   "id": "dd7486b4",
   "metadata": {},
   "source": [
    "* Although F1 and accuracy in testing data has increased, it's still overfitting on training data."
   ]
  },
  {
   "cell_type": "markdown",
   "id": "1774b467",
   "metadata": {},
   "source": [
    "### 3.3 Tuning Random Forest"
   ]
  },
  {
   "cell_type": "code",
   "execution_count": 94,
   "id": "08cb77ef",
   "metadata": {},
   "outputs": [
    {
     "data": {
      "text/plain": [
       "RandomForestClassifier(max_features=0.2, max_samples=0.6000000000000001,\n",
       "                       min_samples_leaf=8, n_estimators=251, random_state=1)"
      ]
     },
     "execution_count": 94,
     "metadata": {},
     "output_type": "execute_result"
    }
   ],
   "source": [
    "# Choose the type of classifier. \n",
    "rf_estimator = RandomForestClassifier(random_state=1)\n",
    "\n",
    "# Grid of parameters to choose from\n",
    "parameters = {  \n",
    "        \"n_estimators\": [110,251,501],\n",
    "        \"min_samples_leaf\": np.arange(5, 10),\n",
    "        \"max_features\": [0.2, 0.7, 0.1],\n",
    "        \"max_samples\": np.arange(0.3, 0.7, 0.1),\n",
    "}\n",
    "\n",
    "# Run the grid search\n",
    "grid_obj = GridSearchCV(rf_estimator, parameters, scoring='f1',cv=5)\n",
    "grid_obj = grid_obj.fit(X_train, y_train)\n",
    "\n",
    "# Set the clf to the best combination of parameters\n",
    "rf_tuned = grid_obj.best_estimator_\n",
    "\n",
    "# Fit the best algorithm to the data. \n",
    "rf_tuned.fit(X_train, y_train)"
   ]
  },
  {
   "cell_type": "code",
   "execution_count": 95,
   "id": "5d8b7eda",
   "metadata": {},
   "outputs": [
    {
     "data": {
      "image/png": "[encoded data removed]",
      "text/plain": [
       "<Figure size 432x288 with 2 Axes>"
      ]
     },
     "metadata": {},
     "output_type": "display_data"
    }
   ],
   "source": [
    "confusion_matrix_sklearn(rf_tuned, X_train,y_train)"
   ]
  },
  {
   "cell_type": "code",
   "execution_count": 96,
   "id": "739dd8bb",
   "metadata": {},
   "outputs": [
    {
     "name": "stdout",
     "output_type": "stream",
     "text": [
      "Training performance \n",
      "    Accuracy    Recall  Precision      F1\n",
      "0  0.771473  0.893478   0.791317  0.8393\n"
     ]
    }
   ],
   "source": [
    "rf_tuned_model_train_perf=model_performance_classification_sklearn(rf_tuned, X_train,y_train)\n",
    "print(\"Training performance \\n\",rf_tuned_model_train_perf)"
   ]
  },
  {
   "cell_type": "code",
   "execution_count": 97,
   "id": "b2eac51a",
   "metadata": {},
   "outputs": [
    {
     "data": {
      "image/png": "[encoded data removed]",
      "text/plain": [
       "<Figure size 432x288 with 2 Axes>"
      ]
     },
     "metadata": {},
     "output_type": "display_data"
    }
   ],
   "source": [
    "confusion_matrix_sklearn(rf_tuned, X_test,y_test)"
   ]
  },
  {
   "cell_type": "code",
   "execution_count": 98,
   "id": "f61f5e13",
   "metadata": {},
   "outputs": [
    {
     "name": "stdout",
     "output_type": "stream",
     "text": [
      "Testing performance \n",
      "    Accuracy    Recall  Precision        F1\n",
      "0  0.743851  0.875024   0.771903  0.820235\n"
     ]
    }
   ],
   "source": [
    "rf_tuned_model_test_perf=model_performance_classification_sklearn(rf_tuned, X_test, y_test)\n",
    "print(\"Testing performance \\n\",rf_tuned_model_test_perf)"
   ]
  },
  {
   "cell_type": "markdown",
   "id": "e575c7d4",
   "metadata": {},
   "source": [
    "* Both F1 and Accuracy increased, which is good news for us, and the model is not overfitting."
   ]
  },
  {
   "cell_type": "markdown",
   "id": "89fbe8c9",
   "metadata": {},
   "source": [
    "### 3.4 Tuning AdaBoosting Classifier"
   ]
  },
  {
   "cell_type": "code",
   "execution_count": 99,
   "id": "8b54c40c",
   "metadata": {},
   "outputs": [
    {
     "data": {
      "text/plain": [
       "AdaBoostClassifier(learning_rate=0.5, n_estimators=30, random_state=1)"
      ]
     },
     "execution_count": 99,
     "metadata": {},
     "output_type": "execute_result"
    }
   ],
   "source": [
    "# Choose the type of classifier. \n",
    "abc_tuned = AdaBoostClassifier(random_state=1)\n",
    "\n",
    "# Grid of parameters to choose from\n",
    "## add from article\n",
    "parameters = {\n",
    "              'n_estimators': np.arange(10,100,10), \n",
    "              'learning_rate': [1, 0.1, 0.5, 0.01]\n",
    "}\n",
    "\n",
    "# Type of scoring used to compare parameter combinations\n",
    "acc_scorer = metrics.make_scorer(metrics.f1_score)\n",
    "\n",
    "# Run the grid search\n",
    "grid_obj = GridSearchCV(abc_tuned, parameters, scoring=scorer,cv=5)\n",
    "grid_obj = grid_obj.fit(X_train, y_train)\n",
    "\n",
    "# Set the clf to the best combination of parameters\n",
    "abc_tuned = grid_obj.best_estimator_\n",
    "\n",
    "# Fit the best algorithm to the data.\n",
    "abc_tuned.fit(X_train, y_train)"
   ]
  },
  {
   "cell_type": "code",
   "execution_count": 100,
   "id": "38605304",
   "metadata": {},
   "outputs": [
    {
     "data": {
      "image/png": "[encoded data removed]",
      "text/plain": [
       "<Figure size 432x288 with 2 Axes>"
      ]
     },
     "metadata": {},
     "output_type": "display_data"
    }
   ],
   "source": [
    "confusion_matrix_sklearn(abc_tuned, X_train,y_train)"
   ]
  },
  {
   "cell_type": "code",
   "execution_count": 101,
   "id": "d1a3be2f",
   "metadata": {},
   "outputs": [
    {
     "name": "stdout",
     "output_type": "stream",
     "text": [
      "Training performance \n",
      "    Accuracy    Recall  Precision      F1\n",
      "0  0.737105  0.888105   0.759185  0.8186\n"
     ]
    }
   ],
   "source": [
    "abc_tuned_model_train_perf=model_performance_classification_sklearn(abc_tuned, X_train,y_train)\n",
    "print(\"Training performance \\n\",abc_tuned_model_train_perf)"
   ]
  },
  {
   "cell_type": "code",
   "execution_count": 102,
   "id": "aceec335",
   "metadata": {},
   "outputs": [
    {
     "data": {
      "image/png": "[encoded data removed]",
      "text/plain": [
       "<Figure size 432x288 with 2 Axes>"
      ]
     },
     "metadata": {},
     "output_type": "display_data"
    }
   ],
   "source": [
    "confusion_matrix_sklearn(abc_tuned, X_test,y_test)"
   ]
  },
  {
   "cell_type": "code",
   "execution_count": 103,
   "id": "716437f5",
   "metadata": {},
   "outputs": [
    {
     "name": "stdout",
     "output_type": "stream",
     "text": [
      "Testing performance \n",
      "    Accuracy    Recall  Precision        F1\n",
      "0  0.735217  0.887561   0.757566  0.817427\n"
     ]
    }
   ],
   "source": [
    "abc_tuned_model_test_perf=model_performance_classification_sklearn(abc_tuned, X_test, y_test)\n",
    "print(\"Testing performance \\n\",abc_tuned_model_test_perf)"
   ]
  },
  {
   "cell_type": "markdown",
   "id": "488697cb",
   "metadata": {},
   "source": [
    "* The new model doesn't make much progress compared to the previous model that hasn't been tweaked"
   ]
  },
  {
   "cell_type": "markdown",
   "id": "b0a099b2",
   "metadata": {},
   "source": [
    "### 3.5 Tuning Gradient Boosting Classifier"
   ]
  },
  {
   "cell_type": "code",
   "execution_count": 104,
   "id": "9523eaca",
   "metadata": {},
   "outputs": [
    {
     "data": {
      "text/plain": [
       "GradientBoostingClassifier(init=AdaBoostClassifier(random_state=1),\n",
       "                           max_features=0.9, n_estimators=200, random_state=1,\n",
       "                           subsample=1)"
      ]
     },
     "execution_count": 104,
     "metadata": {},
     "output_type": "execute_result"
    }
   ],
   "source": [
    "gbc_tuned = GradientBoostingClassifier(\n",
    "    init=AdaBoostClassifier(random_state=1), random_state=1\n",
    ")\n",
    "\n",
    "parameters = {\n",
    "    \"n_estimators\": [200, 250],\n",
    "    \"subsample\": [0.9, 1],\n",
    "    \"max_features\": [0.8, 0.9],\n",
    "    \"learning_rate\": np.arange(0.1, 0.21, 0.1),\n",
    "}\n",
    "\n",
    "acc_scorer = metrics.make_scorer(metrics.f1_score)\n",
    "\n",
    "grid_obj = GridSearchCV(gbc_tuned, parameters, scoring='f1',cv=5)\n",
    "grid_obj = grid_obj.fit(X_train, y_train)\n",
    "\n",
    "gbc_tuned = grid_obj.best_estimator_\n",
    "\n",
    "gbc_tuned.fit(X_train, y_train)"
   ]
  },
  {
   "cell_type": "code",
   "execution_count": 105,
   "id": "2de691ba",
   "metadata": {},
   "outputs": [
    {
     "data": {
      "image/png": "[encoded data removed]",
      "text/plain": [
       "<Figure size 432x288 with 2 Axes>"
      ]
     },
     "metadata": {},
     "output_type": "display_data"
    }
   ],
   "source": [
    "confusion_matrix_sklearn(gbc_tuned, X_train,y_train)"
   ]
  },
  {
   "cell_type": "code",
   "execution_count": 106,
   "id": "5cd8b0c3",
   "metadata": {},
   "outputs": [
    {
     "name": "stdout",
     "output_type": "stream",
     "text": [
      "Training performance \n",
      "    Accuracy    Recall  Precision        F1\n",
      "0   0.76368  0.884412   0.787797  0.833314\n"
     ]
    }
   ],
   "source": [
    "gbc_tuned_model_train_perf=model_performance_classification_sklearn(gbc_tuned, X_train,y_train)\n",
    "print(\"Training performance \\n\",gbc_tuned_model_train_perf)"
   ]
  },
  {
   "cell_type": "code",
   "execution_count": 107,
   "id": "36b10d87",
   "metadata": {},
   "outputs": [
    {
     "data": {
      "image/png": "[encoded data removed]",
      "text/plain": [
       "<Figure size 432x288 with 2 Axes>"
      ]
     },
     "metadata": {},
     "output_type": "display_data"
    }
   ],
   "source": [
    "confusion_matrix_sklearn(gbc_tuned, X_test,y_test)"
   ]
  },
  {
   "cell_type": "code",
   "execution_count": 108,
   "id": "7f070854",
   "metadata": {},
   "outputs": [
    {
     "name": "stdout",
     "output_type": "stream",
     "text": [
      "Testing performance \n",
      "    Accuracy    Recall  Precision        F1\n",
      "0  0.745552  0.875024    0.77364  0.821215\n"
     ]
    }
   ],
   "source": [
    "gbc_tuned_model_test_perf=model_performance_classification_sklearn(gbc_tuned, X_test, y_test)\n",
    "print(\"Testing performance \\n\",gbc_tuned_model_test_perf)"
   ]
  },
  {
   "cell_type": "markdown",
   "id": "efab76aa",
   "metadata": {},
   "source": [
    "* Doesn't make much improvement, but not overfitting. "
   ]
  },
  {
   "cell_type": "markdown",
   "id": "c75883fb",
   "metadata": {},
   "source": [
    "### 3.6 Stacking Model"
   ]
  },
  {
   "cell_type": "code",
   "execution_count": 109,
   "id": "4c0a35b6",
   "metadata": {},
   "outputs": [],
   "source": [
    "estimators=[('Random Forest', rf_tuned),('Decision Tree', dtree_tuned),\n",
    "           ('Gradient Boosting', gbc_tuned),('AdaBoosting', abc_tuned)]\n",
    "final_estimator=XGBClassifier(random_state=1)"
   ]
  },
  {
   "cell_type": "code",
   "execution_count": 110,
   "id": "4d2362fd",
   "metadata": {},
   "outputs": [
    {
     "data": {
      "text/plain": [
       "StackingClassifier(cv=5,\n",
       "                   estimators=[('Random Forest',\n",
       "                                RandomForestClassifier(max_features=0.2,\n",
       "                                                       max_samples=0.6000000000000001,\n",
       "                                                       min_samples_leaf=8,\n",
       "                                                       n_estimators=251,\n",
       "                                                       random_state=1)),\n",
       "                               ('Decision Tree',\n",
       "                                DecisionTreeClassifier(class_weight={0: 0.33,\n",
       "                                                                     1: 0.67},\n",
       "                                                       max_depth=9,\n",
       "                                                       max_leaf_nodes=15,\n",
       "                                                       min_impurity_decrease=0.0001,\n",
       "                                                       random_state=1)),\n",
       "                               ('Gradient Boosting',\n",
       "                                GradientBo...\n",
       "                                                 gpu_id=None, grow_policy=None,\n",
       "                                                 importance_type=None,\n",
       "                                                 interaction_constraints=None,\n",
       "                                                 learning_rate=None,\n",
       "                                                 max_bin=None,\n",
       "                                                 max_cat_to_onehot=None,\n",
       "                                                 max_delta_step=None,\n",
       "                                                 max_depth=None,\n",
       "                                                 max_leaves=None,\n",
       "                                                 min_child_weight=None,\n",
       "                                                 missing=nan,\n",
       "                                                 monotone_constraints=None,\n",
       "                                                 n_estimators=100, n_jobs=None,\n",
       "                                                 num_parallel_tree=None,\n",
       "                                                 predictor=None, random_state=1,\n",
       "                                                 reg_alpha=None,\n",
       "                                                 reg_lambda=None, ...))"
      ]
     },
     "execution_count": 110,
     "metadata": {},
     "output_type": "execute_result"
    }
   ],
   "source": [
    "stacking_model=StackingClassifier(estimators=estimators, final_estimator=final_estimator,cv=5)\n",
    "stacking_model.fit(X_train,y_train)"
   ]
  },
  {
   "cell_type": "code",
   "execution_count": 111,
   "id": "c8aa6f5d",
   "metadata": {},
   "outputs": [
    {
     "data": {
      "image/png": "[encoded data removed]",
      "text/plain": [
       "<Figure size 432x288 with 2 Axes>"
      ]
     },
     "metadata": {},
     "output_type": "display_data"
    }
   ],
   "source": [
    "confusion_matrix_sklearn(stacking_model, X_train,y_train)"
   ]
  },
  {
   "cell_type": "code",
   "execution_count": 112,
   "id": "67413e65",
   "metadata": {},
   "outputs": [
    {
     "name": "stdout",
     "output_type": "stream",
     "text": [
      "Training performance \n",
      "    Accuracy    Recall  Precision        F1\n",
      "0  0.759307  0.889029   0.780932  0.831482\n"
     ]
    }
   ],
   "source": [
    "stacking_model_train_perf=model_performance_classification_sklearn(stacking_model, X_train,y_train)\n",
    "print(\"Training performance \\n\",stacking_model_train_perf)"
   ]
  },
  {
   "cell_type": "code",
   "execution_count": 113,
   "id": "7e13cd00",
   "metadata": {},
   "outputs": [
    {
     "data": {
      "image/png": "[encoded data removed]",
      "text/plain": [
       "<Figure size 432x288 with 2 Axes>"
      ]
     },
     "metadata": {},
     "output_type": "display_data"
    }
   ],
   "source": [
    "confusion_matrix_sklearn(stacking_model, X_test,y_test)"
   ]
  },
  {
   "cell_type": "code",
   "execution_count": 114,
   "id": "d1f9fd4a",
   "metadata": {},
   "outputs": [
    {
     "name": "stdout",
     "output_type": "stream",
     "text": [
      "Testing performance \n",
      "    Accuracy    Recall  Precision        F1\n",
      "0  0.736395  0.875416   0.764193  0.816032\n"
     ]
    }
   ],
   "source": [
    "stacking_model_test_perf=model_performance_classification_sklearn(stacking_model, X_test, y_test)\n",
    "print(\"Testing performance \\n\",stacking_model_test_perf)"
   ]
  },
  {
   "cell_type": "markdown",
   "id": "4a8490fd",
   "metadata": {},
   "source": [
    "* Not overfitting on the training data, but didn't get much improvement on F1 and Accuracy."
   ]
  },
  {
   "cell_type": "markdown",
   "id": "obvious-maine",
   "metadata": {
    "id": "obvious-maine"
   },
   "source": [
    "## Model Performance Comparison and Conclusions"
   ]
  },
  {
   "cell_type": "code",
   "execution_count": 115,
   "id": "everyday-kinase",
   "metadata": {
    "id": "everyday-kinase"
   },
   "outputs": [],
   "source": [
    "# training performance comparison\n",
    "\n",
    "models_train_comp_df = pd.concat(\n",
    "    [\n",
    "dtree_model_train_perf.T,\n",
    "bagging_model_train_perf.T,\n",
    "bagging_wt_model_train_perf.T,\n",
    "rf_model_train_perf.T,\n",
    "rf_wt_model_train_perf.T,\n",
    "abc_model_train_perf.T,\n",
    "gbc_model_train_perf.T,\n",
    "dtree_tuned_model_train_perf.T,\n",
    "bagging_tuned_model_train_perf.T,\n",
    "rf_tuned_model_train_perf.T,\n",
    "abc_tuned_model_train_perf.T,\n",
    "gbc_tuned_model_train_perf.T,\n",
    "stacking_model_train_perf.T,\n",
    "    ],\n",
    "    axis=1,\n",
    ")\n",
    "models_train_comp_df.columns = [\n",
    "    \"Decision Tree without weight class\",\n",
    "    \"Bagging model without tweak\",\n",
    "    \"Bagging model with weight class\",\n",
    "    \"Random Forest without weight class\",\n",
    "    \"Random Forest with weight class\",\n",
    "    \"AdaBoosting without tweak\",\n",
    "    \"Gradient Boosting without tweak\",\n",
    "    \"Decision Tree tuned\",\n",
    "    \"Bagging tuned\",\n",
    "    \"Random Forest tuned\",\n",
    "    \"AdaBoosting with tuned\",\n",
    "    \"Gradient Boosting with tuned\",\n",
    "    \"Stacking Model\",\n",
    "]"
   ]
  },
  {
   "cell_type": "code",
   "execution_count": 116,
   "id": "1552152d",
   "metadata": {},
   "outputs": [],
   "source": [
    "# test performance comparison\n",
    "models_test_comp_df = pd.concat(\n",
    "    [\n",
    "        dtree_model_test_perf.T,\n",
    "        bagging_model_test_perf.T,\n",
    "        bagging_wt_model_test_perf.T,\n",
    "        rf_model_test_perf.T,\n",
    "        rf_wt_model_test_perf.T,\n",
    "        abc_model_test_perf.T,\n",
    "        gbc_model_test_perf.T,\n",
    "        dtree_tuned_model_test_perf.T,\n",
    "        bagging_tuned_model_test_perf.T,\n",
    "        rf_tuned_model_test_perf.T,\n",
    "        abc_tuned_model_test_perf.T,\n",
    "        gbc_tuned_model_test_perf.T,\n",
    "        stacking_model_test_perf.T,\n",
    "    ],\n",
    "    axis=1,\n",
    ")\n",
    "models_test_comp_df.columns = [\n",
    "    \"Decision Tree without weight class\",\n",
    "    \"Bagging model without tweak\",\n",
    "    \"Bagging model with weight class\",\n",
    "    \"Random Forest without weight class\",\n",
    "    \"Random Forest with weight class\",\n",
    "    \"AdaBoosting without tweak\",\n",
    "    \"Gradient Boosting without tweak\",\n",
    "    \"Decision Tree tuned\",\n",
    "    \"Bagging tuned\",\n",
    "    \"Random Forest tuned\",\n",
    "    \"AdaBoosting with tuned\",\n",
    "    \"Gradient Boosting with tuned\",\n",
    "    \"Stacking Model\",\n",
    "]"
   ]
  },
  {
   "cell_type": "code",
   "execution_count": 117,
   "id": "62bb31a0",
   "metadata": {},
   "outputs": [
    {
     "data": {
      "text/html": [
       "<div>\n",
       "<style scoped>\n",
       "    .dataframe tbody tr th:only-of-type {\n",
       "        vertical-align: middle;\n",
       "    }\n",
       "\n",
       "    .dataframe tbody tr th {\n",
       "        vertical-align: top;\n",
       "    }\n",
       "\n",
       "    .dataframe thead th {\n",
       "        text-align: right;\n",
       "    }\n",
       "</style>\n",
       "<table border=\"1\" class=\"dataframe\">\n",
       "  <thead>\n",
       "    <tr style=\"text-align: right;\">\n",
       "      <th></th>\n",
       "      <th>Decision Tree without weight class</th>\n",
       "      <th>Bagging model without tweak</th>\n",
       "      <th>Bagging model with weight class</th>\n",
       "      <th>Random Forest without weight class</th>\n",
       "      <th>Random Forest with weight class</th>\n",
       "      <th>AdaBoosting without tweak</th>\n",
       "      <th>Gradient Boosting without tweak</th>\n",
       "      <th>Decision Tree tuned</th>\n",
       "      <th>Bagging tuned</th>\n",
       "      <th>Random Forest tuned</th>\n",
       "      <th>AdaBoosting with tuned</th>\n",
       "      <th>Gradient Boosting with tuned</th>\n",
       "      <th>Stacking Model</th>\n",
       "    </tr>\n",
       "  </thead>\n",
       "  <tbody>\n",
       "    <tr>\n",
       "      <th>Accuracy</th>\n",
       "      <td>1.0</td>\n",
       "      <td>0.983797</td>\n",
       "      <td>0.984974</td>\n",
       "      <td>1.0</td>\n",
       "      <td>0.999944</td>\n",
       "      <td>0.737273</td>\n",
       "      <td>0.758410</td>\n",
       "      <td>0.729760</td>\n",
       "      <td>0.998318</td>\n",
       "      <td>0.771473</td>\n",
       "      <td>0.737105</td>\n",
       "      <td>0.763680</td>\n",
       "      <td>0.759307</td>\n",
       "    </tr>\n",
       "    <tr>\n",
       "      <th>Recall</th>\n",
       "      <td>1.0</td>\n",
       "      <td>0.985226</td>\n",
       "      <td>0.984890</td>\n",
       "      <td>1.0</td>\n",
       "      <td>0.999916</td>\n",
       "      <td>0.889197</td>\n",
       "      <td>0.883657</td>\n",
       "      <td>0.944850</td>\n",
       "      <td>0.999916</td>\n",
       "      <td>0.893478</td>\n",
       "      <td>0.888105</td>\n",
       "      <td>0.884412</td>\n",
       "      <td>0.889029</td>\n",
       "    </tr>\n",
       "    <tr>\n",
       "      <th>Precision</th>\n",
       "      <td>1.0</td>\n",
       "      <td>0.990464</td>\n",
       "      <td>0.992556</td>\n",
       "      <td>1.0</td>\n",
       "      <td>1.000000</td>\n",
       "      <td>0.758865</td>\n",
       "      <td>0.782677</td>\n",
       "      <td>0.730008</td>\n",
       "      <td>0.997571</td>\n",
       "      <td>0.791317</td>\n",
       "      <td>0.759185</td>\n",
       "      <td>0.787797</td>\n",
       "      <td>0.780932</td>\n",
       "    </tr>\n",
       "    <tr>\n",
       "      <th>F1</th>\n",
       "      <td>1.0</td>\n",
       "      <td>0.987838</td>\n",
       "      <td>0.988708</td>\n",
       "      <td>1.0</td>\n",
       "      <td>0.999958</td>\n",
       "      <td>0.818878</td>\n",
       "      <td>0.830107</td>\n",
       "      <td>0.823650</td>\n",
       "      <td>0.998742</td>\n",
       "      <td>0.839300</td>\n",
       "      <td>0.818600</td>\n",
       "      <td>0.833314</td>\n",
       "      <td>0.831482</td>\n",
       "    </tr>\n",
       "  </tbody>\n",
       "</table>\n",
       "</div>"
      ],
      "text/plain": [
       "           Decision Tree without weight class  Bagging model without tweak  \\\n",
       "Accuracy                                  1.0                     0.983797   \n",
       "Recall                                    1.0                     0.985226   \n",
       "Precision                                 1.0                     0.990464   \n",
       "F1                                        1.0                     0.987838   \n",
       "\n",
       "           Bagging model with weight class  \\\n",
       "Accuracy                          0.984974   \n",
       "Recall                            0.984890   \n",
       "Precision                         0.992556   \n",
       "F1                                0.988708   \n",
       "\n",
       "           Random Forest without weight class  \\\n",
       "Accuracy                                  1.0   \n",
       "Recall                                    1.0   \n",
       "Precision                                 1.0   \n",
       "F1                                        1.0   \n",
       "\n",
       "           Random Forest with weight class  AdaBoosting without tweak  \\\n",
       "Accuracy                          0.999944                   0.737273   \n",
       "Recall                            0.999916                   0.889197   \n",
       "Precision                         1.000000                   0.758865   \n",
       "F1                                0.999958                   0.818878   \n",
       "\n",
       "           Gradient Boosting without tweak  Decision Tree tuned  \\\n",
       "Accuracy                          0.758410             0.729760   \n",
       "Recall                            0.883657             0.944850   \n",
       "Precision                         0.782677             0.730008   \n",
       "F1                                0.830107             0.823650   \n",
       "\n",
       "           Bagging tuned  Random Forest tuned  AdaBoosting with tuned  \\\n",
       "Accuracy        0.998318             0.771473                0.737105   \n",
       "Recall          0.999916             0.893478                0.888105   \n",
       "Precision       0.997571             0.791317                0.759185   \n",
       "F1              0.998742             0.839300                0.818600   \n",
       "\n",
       "           Gradient Boosting with tuned  Stacking Model  \n",
       "Accuracy                       0.763680        0.759307  \n",
       "Recall                         0.884412        0.889029  \n",
       "Precision                      0.787797        0.780932  \n",
       "F1                             0.833314        0.831482  "
      ]
     },
     "execution_count": 117,
     "metadata": {},
     "output_type": "execute_result"
    }
   ],
   "source": [
    "models_train_comp_df"
   ]
  },
  {
   "cell_type": "code",
   "execution_count": 118,
   "id": "5578e63a",
   "metadata": {},
   "outputs": [
    {
     "data": {
      "text/html": [
       "<div>\n",
       "<style scoped>\n",
       "    .dataframe tbody tr th:only-of-type {\n",
       "        vertical-align: middle;\n",
       "    }\n",
       "\n",
       "    .dataframe tbody tr th {\n",
       "        vertical-align: top;\n",
       "    }\n",
       "\n",
       "    .dataframe thead th {\n",
       "        text-align: right;\n",
       "    }\n",
       "</style>\n",
       "<table border=\"1\" class=\"dataframe\">\n",
       "  <thead>\n",
       "    <tr style=\"text-align: right;\">\n",
       "      <th></th>\n",
       "      <th>Decision Tree without weight class</th>\n",
       "      <th>Bagging model without tweak</th>\n",
       "      <th>Bagging model with weight class</th>\n",
       "      <th>Random Forest without weight class</th>\n",
       "      <th>Random Forest with weight class</th>\n",
       "      <th>AdaBoosting without tweak</th>\n",
       "      <th>Gradient Boosting without tweak</th>\n",
       "      <th>Decision Tree tuned</th>\n",
       "      <th>Bagging tuned</th>\n",
       "      <th>Random Forest tuned</th>\n",
       "      <th>AdaBoosting with tuned</th>\n",
       "      <th>Gradient Boosting with tuned</th>\n",
       "      <th>Stacking Model</th>\n",
       "    </tr>\n",
       "  </thead>\n",
       "  <tbody>\n",
       "    <tr>\n",
       "      <th>Accuracy</th>\n",
       "      <td>0.654893</td>\n",
       "      <td>0.698195</td>\n",
       "      <td>0.691784</td>\n",
       "      <td>0.723051</td>\n",
       "      <td>0.720696</td>\n",
       "      <td>0.732862</td>\n",
       "      <td>0.745683</td>\n",
       "      <td>0.720304</td>\n",
       "      <td>0.723051</td>\n",
       "      <td>0.743851</td>\n",
       "      <td>0.735217</td>\n",
       "      <td>0.745552</td>\n",
       "      <td>0.736395</td>\n",
       "    </tr>\n",
       "    <tr>\n",
       "      <th>Recall</th>\n",
       "      <td>0.729285</td>\n",
       "      <td>0.778257</td>\n",
       "      <td>0.760039</td>\n",
       "      <td>0.835651</td>\n",
       "      <td>0.824094</td>\n",
       "      <td>0.885211</td>\n",
       "      <td>0.876983</td>\n",
       "      <td>0.941626</td>\n",
       "      <td>0.877963</td>\n",
       "      <td>0.875024</td>\n",
       "      <td>0.887561</td>\n",
       "      <td>0.875024</td>\n",
       "      <td>0.875416</td>\n",
       "    </tr>\n",
       "    <tr>\n",
       "      <th>Precision</th>\n",
       "      <td>0.747741</td>\n",
       "      <td>0.771756</td>\n",
       "      <td>0.774297</td>\n",
       "      <td>0.769481</td>\n",
       "      <td>0.772777</td>\n",
       "      <td>0.756318</td>\n",
       "      <td>0.772829</td>\n",
       "      <td>0.723183</td>\n",
       "      <td>0.750000</td>\n",
       "      <td>0.771903</td>\n",
       "      <td>0.757566</td>\n",
       "      <td>0.773640</td>\n",
       "      <td>0.764193</td>\n",
       "    </tr>\n",
       "    <tr>\n",
       "      <th>F1</th>\n",
       "      <td>0.738397</td>\n",
       "      <td>0.774993</td>\n",
       "      <td>0.767102</td>\n",
       "      <td>0.801202</td>\n",
       "      <td>0.797611</td>\n",
       "      <td>0.815704</td>\n",
       "      <td>0.821619</td>\n",
       "      <td>0.818074</td>\n",
       "      <td>0.808952</td>\n",
       "      <td>0.820235</td>\n",
       "      <td>0.817427</td>\n",
       "      <td>0.821215</td>\n",
       "      <td>0.816032</td>\n",
       "    </tr>\n",
       "  </tbody>\n",
       "</table>\n",
       "</div>"
      ],
      "text/plain": [
       "           Decision Tree without weight class  Bagging model without tweak  \\\n",
       "Accuracy                             0.654893                     0.698195   \n",
       "Recall                               0.729285                     0.778257   \n",
       "Precision                            0.747741                     0.771756   \n",
       "F1                                   0.738397                     0.774993   \n",
       "\n",
       "           Bagging model with weight class  \\\n",
       "Accuracy                          0.691784   \n",
       "Recall                            0.760039   \n",
       "Precision                         0.774297   \n",
       "F1                                0.767102   \n",
       "\n",
       "           Random Forest without weight class  \\\n",
       "Accuracy                             0.723051   \n",
       "Recall                               0.835651   \n",
       "Precision                            0.769481   \n",
       "F1                                   0.801202   \n",
       "\n",
       "           Random Forest with weight class  AdaBoosting without tweak  \\\n",
       "Accuracy                          0.720696                   0.732862   \n",
       "Recall                            0.824094                   0.885211   \n",
       "Precision                         0.772777                   0.756318   \n",
       "F1                                0.797611                   0.815704   \n",
       "\n",
       "           Gradient Boosting without tweak  Decision Tree tuned  \\\n",
       "Accuracy                          0.745683             0.720304   \n",
       "Recall                            0.876983             0.941626   \n",
       "Precision                         0.772829             0.723183   \n",
       "F1                                0.821619             0.818074   \n",
       "\n",
       "           Bagging tuned  Random Forest tuned  AdaBoosting with tuned  \\\n",
       "Accuracy        0.723051             0.743851                0.735217   \n",
       "Recall          0.877963             0.875024                0.887561   \n",
       "Precision       0.750000             0.771903                0.757566   \n",
       "F1              0.808952             0.820235                0.817427   \n",
       "\n",
       "           Gradient Boosting with tuned  Stacking Model  \n",
       "Accuracy                       0.745552        0.736395  \n",
       "Recall                         0.875024        0.875416  \n",
       "Precision                      0.773640        0.764193  \n",
       "F1                             0.821215        0.816032  "
      ]
     },
     "execution_count": 118,
     "metadata": {},
     "output_type": "execute_result"
    }
   ],
   "source": [
    "models_test_comp_df"
   ]
  },
  {
   "cell_type": "markdown",
   "id": "15749c51",
   "metadata": {},
   "source": [
    "* From above table, we can notice that apart from those overfitting models, the difference between the other models is not big, but here I will choose Gradient Boosting with tuned as the final model, because in this model the F1 score and accuracy are slightly higher than other models."
   ]
  },
  {
   "cell_type": "markdown",
   "id": "02fa2777",
   "metadata": {},
   "source": [
    "### Let's check the importance of each feature in the Gradient Boosting with tuned model."
   ]
  },
  {
   "cell_type": "code",
   "execution_count": 119,
   "id": "2bbc8f9d",
   "metadata": {},
   "outputs": [
    {
     "data": {
      "image/png": "[encoded data removed]",
      "text/plain": [
       "<Figure size 864x864 with 1 Axes>"
      ]
     },
     "metadata": {},
     "output_type": "display_data"
    }
   ],
   "source": [
    "feature_names = X_train.columns\n",
    "importances = gbc_tuned.feature_importances_\n",
    "indices = np.argsort(importances)\n",
    "\n",
    "plt.figure(figsize=(12,12))\n",
    "plt.title('Feature Importances')\n",
    "plt.barh(range(len(indices)), importances[indices], color='violet', align='center')\n",
    "plt.yticks(range(len(indices)), [feature_names[i] for i in indices])\n",
    "plt.xlabel('Relative Importance')\n",
    "plt.show()"
   ]
  },
  {
   "cell_type": "markdown",
   "id": "nasty-retailer",
   "metadata": {
    "id": "nasty-retailer"
   },
   "source": [
    "## Actionable Insights and Recommendations"
   ]
  },
  {
   "cell_type": "markdown",
   "id": "2227b675",
   "metadata": {
    "id": "amino-prediction"
   },
   "source": [
    "* U.S. Customs can use this model to predict whether a candidate's visa should be granted or denied.\n",
    "* We can note that education of employee and work experience play a decisive role in whether an applicant can obtain a visa. This makes sense logically. Candidates with higher education and work experience are more qualified for jobs in the United States, and they are more likely to get visas to work in the United States.\n",
    "* I suggested that the government can set corresponding policies and rules in the introduction of talents, such as: setting educational requirements, only foreigners with a bachelor's degree or above can apply for work in the United States, and only foreign workers with 5 years of work experience are allowed to apply for visas.\n",
    "* The data in the original data, such as \"the year the company was established\", does not seem to have a significant impact on the prediction model. In the future data collection process, it is more logical to collect more data related to whether the applicant is qualified, such as : The QS ranking of the applicant's school, the applicant's GPA score, etc."
   ]
  }
 ],
 "metadata": {
  "colab": {
   "collapsed_sections": [],
   "name": "EasyVisa_Project_Template_Notebook.ipynb",
   "provenance": []
  },
  "kernelspec": {
   "display_name": "Python 3 (ipykernel)",
   "language": "python",
   "name": "python3"
  },
  "language_info": {
   "codemirror_mode": {
    "name": "ipython",
    "version": 3
   },
   "file_extension": ".py",
   "mimetype": "text/x-python",
   "name": "python",
   "nbconvert_exporter": "python",
   "pygments_lexer": "ipython3",
   "version": "3.9.7"
  }
 },
 "nbformat": 4,
 "nbformat_minor": 5
}
